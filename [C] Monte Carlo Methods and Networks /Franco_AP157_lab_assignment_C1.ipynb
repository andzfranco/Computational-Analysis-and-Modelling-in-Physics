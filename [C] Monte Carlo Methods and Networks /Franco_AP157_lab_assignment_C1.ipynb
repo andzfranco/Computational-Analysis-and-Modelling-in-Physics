{
  "nbformat": 4,
  "nbformat_minor": 0,
  "metadata": {
    "colab": {
      "provenance": []
    },
    "kernelspec": {
      "name": "python3",
      "display_name": "Python 3"
    }
  },
  "cells": [
    {
      "cell_type": "markdown",
      "metadata": {
        "id": "RSdzzrWrgAXu"
      },
      "source": [
        "# **AP157 Module C Lab Assignment**\n",
        "\n",
        "## Module C1: Networks\n",
        "\n",
        "_Instructions_: Answer each part of the assignment as completely as you can. Discuss **all** your code and results as clearly and concisely as possible.\n",
        "\n",
        "_Scoring Criteria_: 50% - *correctness of code*; 50% - *discussion of the code and results*. Maximum score is **100 points**.\n",
        "\n",
        "_Credits_: The sample social network used is taken from https://nauczanki.wordpress.com/2014/11/10/social-network-analysis-basics-in-300-words-dalmooc-assignment-week-3/, which in turn is taken from an unspecified MOOC assignment."
      ]
    },
    {
      "cell_type": "markdown",
      "metadata": {
        "id": "I_dmUyo2pxIt"
      },
      "source": [
        "### Student Information\n",
        "\n",
        "_Full Name (Last Name, First Name)_: Franco, Andrea Rose \\\n",
        "_Student No._: 2021-06793\\\n",
        "_Section_: TX-2"
      ]
    },
    {
      "cell_type": "markdown",
      "metadata": {
        "id": "LyO1CnkFp17G"
      },
      "source": [
        "### Submission Information\n",
        "\n",
        "_Date and Time Submitted (most recent upload)_:\n",
        "\n",
        "**HONOR PLEDGE** I affirm that I have upheld the highest principles of honesty and integrity in my academic work and that this lab assignment is my own work.\n",
        "\n",
        "**Sign here with your full name: ANDREA ROSE V. FRANCO**"
      ]
    },
    {
      "cell_type": "markdown",
      "metadata": {
        "id": "xgse8Mt5p35S"
      },
      "source": [
        "### Grading Information (c/o Instructor)\n",
        "\n",
        "TOTAL SCORE: **[]**/100\n",
        "\n",
        "Score breakdown:\n",
        "* Part 1 - []/30\n",
        "* Part 2 - []/30\n",
        "* Part 3 - []/30\n",
        "* Part 4 - []/40\n",
        "\n",
        "_Date and Time Scored (MM/DD/YYYY HH:MM AM/PM):_"
      ]
    },
    {
      "cell_type": "markdown",
      "source": [
        "For all parts of this assignment,  refer to the diagram of the sample social network in the Google Drive \"Datasets\" Folder (https://drive.google.com/file/d/1DkAK44GfocX0bmlSfK5Q6cbYXAUkixyj/view?usp=drive_link)"
      ],
      "metadata": {
        "id": "ume3h45hdJFm"
      }
    },
    {
      "cell_type": "markdown",
      "metadata": {
        "id": "gAgom2vqp-2X"
      },
      "source": [
        "#### PART 1 - Network generation and characteristics *(30 points)*\n",
        "\n",
        "1. Using the Python package networkx, define a network that represents the social network of friends in the diagram. *(15 points)*  \n",
        "\n",
        "2. Calculate the ff. network characteristics: *(15 points; 5 points each)*\n",
        "- Diameter\n",
        "- Density\n",
        "- Average Degree\n",
        "\n",
        "3. Create the degree distribution plot and briefly discuss what it tells us about this social network. *(10 points)*"
      ]
    },
    {
      "cell_type": "code",
      "source": [
        "import networkx as nx"
      ],
      "metadata": {
        "id": "U5dRTIPWfNss"
      },
      "execution_count": 233,
      "outputs": []
    },
    {
      "cell_type": "markdown",
      "source": [
        "# **NETWORKS**\n",
        "\n",
        "Complex systems, such as society, ecosystem, and the nervous system, are pretty much common in our everyday lives. These networks are usually modeled as what we call **graphs**, which are set of nodes connected by edges. If it is hard to visualize, imagine a graph as a network map.\n",
        "\n",
        "**Fundamental elements of a graph**\n",
        "\n",
        "For our example of society as a complex system, each person in that society represents a **node/actor**. The social connections or interactions such as friendships and relationships of each person to another are the **edges/links**.\n",
        "\n",
        "Of course, these connections may be one-sided or not. If the connections goes both ways, this is called an **Undirected Graph**. If the connections are one-sided or have a direction, it is called a **Directed Graph**.\n",
        "\n",
        "In this module, we mainly focus on **Undirected Graphs**. To know more, we can start by generating an undirected network.\n"
      ],
      "metadata": {
        "id": "aNHhwROaUKV0"
      }
    },
    {
      "cell_type": "markdown",
      "source": [
        "**NetworkX**\n",
        "\n",
        "We will be mainly using the NetworkX package as it has a set of generators for graphs. To check for the version of the NetworkX:"
      ],
      "metadata": {
        "id": "y9Rv_WXVWjWg"
      }
    },
    {
      "cell_type": "code",
      "source": [
        "nx.__version__"
      ],
      "metadata": {
        "colab": {
          "base_uri": "https://localhost:8080/",
          "height": 35
        },
        "id": "XDfFWm84fNmR",
        "outputId": "d1724c97-154c-41db-9716-568e2fdd2dae"
      },
      "execution_count": 234,
      "outputs": [
        {
          "output_type": "execute_result",
          "data": {
            "text/plain": [
              "'3.3'"
            ],
            "application/vnd.google.colaboratory.intrinsic+json": {
              "type": "string"
            }
          },
          "metadata": {},
          "execution_count": 234
        }
      ]
    },
    {
      "cell_type": "markdown",
      "source": [
        "**Network Generation**\n",
        "\n",
        "We define a social network of friends as shown in https://drive.google.com/file/d/1DkAK44GfocX0bmlSfK5Q6cbYXAUkixyj/view?usp=drive_link.\n",
        "\n",
        "The graph G can be generated either by adding a node at a time or an edge at a time. In this module, I manually added their edges in the `edges_to_add` array."
      ],
      "metadata": {
        "id": "2xgXDrEzW4Jd"
      }
    },
    {
      "cell_type": "code",
      "source": [
        "#Initialize Graph\n",
        "G = nx.Graph()\n",
        "\n",
        "#Manually adding edges based on the example shown\n",
        "edges_to_add = [('Jill', 'Mike'), ('Jill', 'Leah'), ('Jill', 'Bob'), ('Jill', 'Emma'), ('Jill', 'John'), ('Jill', 'Shane'), ('Bob', 'Emma'), ('John', 'Shane'),\n",
        "                ('Liz', 'Emma'), ('Emma', 'Mike'), ('Mike', 'Bob'), ('Bob', 'John'), ('John', 'Leah'), ('Leah', 'Shane'), ('Shane', 'Emma'), ('Shane', 'Liz'),\n",
        "                ('Liz', 'Allen'), ('Allen', 'Lisa')]\n",
        "G.add_edges_from(edges_to_add)\n",
        "\n",
        "#Check the number of nodes and edges\n",
        "print(f'Nodes: {G.number_of_nodes()}')\n",
        "print(f'Edges: {G.number_of_edges()}')\n",
        "\n",
        "#Visualization of Graph\n",
        "nx.draw(G,\n",
        "        with_labels=True,\n",
        "        node_color='orangered',\n",
        "        node_size=1800,\n",
        "        font_color='white',\n",
        "        font_size=14,\n",
        "        )"
      ],
      "metadata": {
        "colab": {
          "base_uri": "https://localhost:8080/",
          "height": 552
        },
        "id": "YqdfXkG1fPsA",
        "outputId": "053da8c7-2dc7-401a-fbba-b4924344c731"
      },
      "execution_count": 298,
      "outputs": [
        {
          "output_type": "stream",
          "name": "stdout",
          "text": [
            "Nodes: 10\n",
            "Edges: 18\n"
          ]
        },
        {
          "output_type": "display_data",
          "data": {
            "text/plain": [
              "<Figure size 640x480 with 1 Axes>"
            ],
            "image/png": "[encoded data removed]"
          },
          "metadata": {}
        }
      ]
    },
    {
      "cell_type": "markdown",
      "source": [
        "#### PART 2 - Centrality Measures *(30 points)*\n",
        "\n",
        "Generate a table of centrality measures per node. Columns are:\n",
        "- Name\n",
        "- Degree Centrality\n",
        "- Betweenness Centrality\n",
        "- Closeness Centrality\n",
        "\n",
        "Briefly discuss who are the most \"central\" people in the social network and why."
      ],
      "metadata": {
        "id": "aE9PlOt1fIUb"
      }
    },
    {
      "cell_type": "markdown",
      "source": [
        "# **CENTRALITY MEASURES**"
      ],
      "metadata": {
        "id": "pDRkNc70noUj"
      }
    },
    {
      "cell_type": "markdown",
      "source": [
        "## **Centrality Measures using NetworkX**\n",
        "NetworkX provides us with functions that measures the centrality of networks. These centrality measures help us in understanding the connections between nodes better. We can call them as metric of our networks as it is helpful in identifying key players in a given network.\n",
        "\n",
        "In this part, we can summarize some of the common centrality measures using NetworkX:"
      ],
      "metadata": {
        "id": "P69O65Blnugr"
      }
    },
    {
      "cell_type": "code",
      "source": [
        "import pandas as pd\n",
        "import numpy as np"
      ],
      "metadata": {
        "id": "MucH7D2MnyeC"
      },
      "execution_count": 236,
      "outputs": []
    },
    {
      "cell_type": "code",
      "source": [
        "#Centrality using NetworkX\n",
        "centrality_measures = {\n",
        "    'Degree Centrality': nx.degree_centrality(G),\n",
        "    'Betweenness Centrality': nx.betweenness_centrality(G),\n",
        "    'Closeness Centrality': nx.closeness_centrality(G)}\n",
        "\n",
        "df = pd.DataFrame(centrality_measures)\n",
        "display(df)"
      ],
      "metadata": {
        "colab": {
          "base_uri": "https://localhost:8080/",
          "height": 363
        },
        "id": "QEH3Ng-XnvRK",
        "outputId": "4292826a-4be9-45ae-ab75-3561480bf20f"
      },
      "execution_count": 237,
      "outputs": [
        {
          "output_type": "display_data",
          "data": {
            "text/plain": [
              "       Degree Centrality  Betweenness Centrality  Closeness Centrality\n",
              "Jill            0.666667                0.101852              0.600000\n",
              "Mike            0.333333                0.000000              0.500000\n",
              "Leah            0.333333                0.000000              0.500000\n",
              "Bob             0.444444                0.023148              0.529412\n",
              "Emma            0.555556                0.231481              0.642857\n",
              "John            0.444444                0.023148              0.529412\n",
              "Shane           0.555556                0.231481              0.642857\n",
              "Liz             0.333333                0.388889              0.600000\n",
              "Allen           0.222222                0.222222              0.428571\n",
              "Lisa            0.111111                0.000000              0.310345"
            ],
            "text/html": [
              "\n",
              "  <div id=\"df-45335e6e-a7f2-4cd1-922a-790309032f05\" class=\"colab-df-container\">\n",
              "    <div>\n",
              "<style scoped>\n",
              "    .dataframe tbody tr th:only-of-type {\n",
              "        vertical-align: middle;\n",
              "    }\n",
              "\n",
              "    .dataframe tbody tr th {\n",
              "        vertical-align: top;\n",
              "    }\n",
              "\n",
              "    .dataframe thead th {\n",
              "        text-align: right;\n",
              "    }\n",
              "</style>\n",
              "<table border=\"1\" class=\"dataframe\">\n",
              "  <thead>\n",
              "    <tr style=\"text-align: right;\">\n",
              "      <th></th>\n",
              "      <th>Degree Centrality</th>\n",
              "      <th>Betweenness Centrality</th>\n",
              "      <th>Closeness Centrality</th>\n",
              "    </tr>\n",
              "  </thead>\n",
              "  <tbody>\n",
              "    <tr>\n",
              "      <th>Jill</th>\n",
              "      <td>0.666667</td>\n",
              "      <td>0.101852</td>\n",
              "      <td>0.600000</td>\n",
              "    </tr>\n",
              "    <tr>\n",
              "      <th>Mike</th>\n",
              "      <td>0.333333</td>\n",
              "      <td>0.000000</td>\n",
              "      <td>0.500000</td>\n",
              "    </tr>\n",
              "    <tr>\n",
              "      <th>Leah</th>\n",
              "      <td>0.333333</td>\n",
              "      <td>0.000000</td>\n",
              "      <td>0.500000</td>\n",
              "    </tr>\n",
              "    <tr>\n",
              "      <th>Bob</th>\n",
              "      <td>0.444444</td>\n",
              "      <td>0.023148</td>\n",
              "      <td>0.529412</td>\n",
              "    </tr>\n",
              "    <tr>\n",
              "      <th>Emma</th>\n",
              "      <td>0.555556</td>\n",
              "      <td>0.231481</td>\n",
              "      <td>0.642857</td>\n",
              "    </tr>\n",
              "    <tr>\n",
              "      <th>John</th>\n",
              "      <td>0.444444</td>\n",
              "      <td>0.023148</td>\n",
              "      <td>0.529412</td>\n",
              "    </tr>\n",
              "    <tr>\n",
              "      <th>Shane</th>\n",
              "      <td>0.555556</td>\n",
              "      <td>0.231481</td>\n",
              "      <td>0.642857</td>\n",
              "    </tr>\n",
              "    <tr>\n",
              "      <th>Liz</th>\n",
              "      <td>0.333333</td>\n",
              "      <td>0.388889</td>\n",
              "      <td>0.600000</td>\n",
              "    </tr>\n",
              "    <tr>\n",
              "      <th>Allen</th>\n",
              "      <td>0.222222</td>\n",
              "      <td>0.222222</td>\n",
              "      <td>0.428571</td>\n",
              "    </tr>\n",
              "    <tr>\n",
              "      <th>Lisa</th>\n",
              "      <td>0.111111</td>\n",
              "      <td>0.000000</td>\n",
              "      <td>0.310345</td>\n",
              "    </tr>\n",
              "  </tbody>\n",
              "</table>\n",
              "</div>\n",
              "    <div class=\"colab-df-buttons\">\n",
              "\n",
              "  <div class=\"colab-df-container\">\n",
              "    <button class=\"colab-df-convert\" onclick=\"convertToInteractive('df-45335e6e-a7f2-4cd1-922a-790309032f05')\"\n",
              "            title=\"Convert this dataframe to an interactive table.\"\n",
              "            style=\"display:none;\">\n",
              "\n",
              "  <svg xmlns=\"http://www.w3.org/2000/svg\" height=\"24px\" viewBox=\"0 -960 960 960\">\n",
              "    <path d=\"M120-120v-720h720v720H120Zm60-500h600v-160H180v160Zm220 220h160v-160H400v160Zm0 220h160v-160H400v160ZM180-400h160v-160H180v160Zm440 0h160v-160H620v160ZM180-180h160v-160H180v160Zm440 0h160v-160H620v160Z\"/>\n",
              "  </svg>\n",
              "    </button>\n",
              "\n",
              "  <style>\n",
              "    .colab-df-container {\n",
              "      display:flex;\n",
              "      gap: 12px;\n",
              "    }\n",
              "\n",
              "    .colab-df-convert {\n",
              "      background-color: #E8F0FE;\n",
              "      border: none;\n",
              "      border-radius: 50%;\n",
              "      cursor: pointer;\n",
              "      display: none;\n",
              "      fill: #1967D2;\n",
              "      height: 32px;\n",
              "      padding: 0 0 0 0;\n",
              "      width: 32px;\n",
              "    }\n",
              "\n",
              "    .colab-df-convert:hover {\n",
              "      background-color: #E2EBFA;\n",
              "      box-shadow: 0px 1px 2px rgba(60, 64, 67, 0.3), 0px 1px 3px 1px rgba(60, 64, 67, 0.15);\n",
              "      fill: #174EA6;\n",
              "    }\n",
              "\n",
              "    .colab-df-buttons div {\n",
              "      margin-bottom: 4px;\n",
              "    }\n",
              "\n",
              "    [theme=dark] .colab-df-convert {\n",
              "      background-color: #3B4455;\n",
              "      fill: #D2E3FC;\n",
              "    }\n",
              "\n",
              "    [theme=dark] .colab-df-convert:hover {\n",
              "      background-color: #434B5C;\n",
              "      box-shadow: 0px 1px 3px 1px rgba(0, 0, 0, 0.15);\n",
              "      filter: drop-shadow(0px 1px 2px rgba(0, 0, 0, 0.3));\n",
              "      fill: #FFFFFF;\n",
              "    }\n",
              "  </style>\n",
              "\n",
              "    <script>\n",
              "      const buttonEl =\n",
              "        document.querySelector('#df-45335e6e-a7f2-4cd1-922a-790309032f05 button.colab-df-convert');\n",
              "      buttonEl.style.display =\n",
              "        google.colab.kernel.accessAllowed ? 'block' : 'none';\n",
              "\n",
              "      async function convertToInteractive(key) {\n",
              "        const element = document.querySelector('#df-45335e6e-a7f2-4cd1-922a-790309032f05');\n",
              "        const dataTable =\n",
              "          await google.colab.kernel.invokeFunction('convertToInteractive',\n",
              "                                                    [key], {});\n",
              "        if (!dataTable) return;\n",
              "\n",
              "        const docLinkHtml = 'Like what you see? Visit the ' +\n",
              "          '<a target=\"_blank\" href=https://colab.research.google.com/notebooks/data_table.ipynb>data table notebook</a>'\n",
              "          + ' to learn more about interactive tables.';\n",
              "        element.innerHTML = '';\n",
              "        dataTable['output_type'] = 'display_data';\n",
              "        await google.colab.output.renderOutput(dataTable, element);\n",
              "        const docLink = document.createElement('div');\n",
              "        docLink.innerHTML = docLinkHtml;\n",
              "        element.appendChild(docLink);\n",
              "      }\n",
              "    </script>\n",
              "  </div>\n",
              "\n",
              "\n",
              "<div id=\"df-6fd172aa-bddc-4d2f-8828-aff51528714d\">\n",
              "  <button class=\"colab-df-quickchart\" onclick=\"quickchart('df-6fd172aa-bddc-4d2f-8828-aff51528714d')\"\n",
              "            title=\"Suggest charts\"\n",
              "            style=\"display:none;\">\n",
              "\n",
              "<svg xmlns=\"http://www.w3.org/2000/svg\" height=\"24px\"viewBox=\"0 0 24 24\"\n",
              "     width=\"24px\">\n",
              "    <g>\n",
              "        <path d=\"M19 3H5c-1.1 0-2 .9-2 2v14c0 1.1.9 2 2 2h14c1.1 0 2-.9 2-2V5c0-1.1-.9-2-2-2zM9 17H7v-7h2v7zm4 0h-2V7h2v10zm4 0h-2v-4h2v4z\"/>\n",
              "    </g>\n",
              "</svg>\n",
              "  </button>\n",
              "\n",
              "<style>\n",
              "  .colab-df-quickchart {\n",
              "      --bg-color: #E8F0FE;\n",
              "      --fill-color: #1967D2;\n",
              "      --hover-bg-color: #E2EBFA;\n",
              "      --hover-fill-color: #174EA6;\n",
              "      --disabled-fill-color: #AAA;\n",
              "      --disabled-bg-color: #DDD;\n",
              "  }\n",
              "\n",
              "  [theme=dark] .colab-df-quickchart {\n",
              "      --bg-color: #3B4455;\n",
              "      --fill-color: #D2E3FC;\n",
              "      --hover-bg-color: #434B5C;\n",
              "      --hover-fill-color: #FFFFFF;\n",
              "      --disabled-bg-color: #3B4455;\n",
              "      --disabled-fill-color: #666;\n",
              "  }\n",
              "\n",
              "  .colab-df-quickchart {\n",
              "    background-color: var(--bg-color);\n",
              "    border: none;\n",
              "    border-radius: 50%;\n",
              "    cursor: pointer;\n",
              "    display: none;\n",
              "    fill: var(--fill-color);\n",
              "    height: 32px;\n",
              "    padding: 0;\n",
              "    width: 32px;\n",
              "  }\n",
              "\n",
              "  .colab-df-quickchart:hover {\n",
              "    background-color: var(--hover-bg-color);\n",
              "    box-shadow: 0 1px 2px rgba(60, 64, 67, 0.3), 0 1px 3px 1px rgba(60, 64, 67, 0.15);\n",
              "    fill: var(--button-hover-fill-color);\n",
              "  }\n",
              "\n",
              "  .colab-df-quickchart-complete:disabled,\n",
              "  .colab-df-quickchart-complete:disabled:hover {\n",
              "    background-color: var(--disabled-bg-color);\n",
              "    fill: var(--disabled-fill-color);\n",
              "    box-shadow: none;\n",
              "  }\n",
              "\n",
              "  .colab-df-spinner {\n",
              "    border: 2px solid var(--fill-color);\n",
              "    border-color: transparent;\n",
              "    border-bottom-color: var(--fill-color);\n",
              "    animation:\n",
              "      spin 1s steps(1) infinite;\n",
              "  }\n",
              "\n",
              "  @keyframes spin {\n",
              "    0% {\n",
              "      border-color: transparent;\n",
              "      border-bottom-color: var(--fill-color);\n",
              "      border-left-color: var(--fill-color);\n",
              "    }\n",
              "    20% {\n",
              "      border-color: transparent;\n",
              "      border-left-color: var(--fill-color);\n",
              "      border-top-color: var(--fill-color);\n",
              "    }\n",
              "    30% {\n",
              "      border-color: transparent;\n",
              "      border-left-color: var(--fill-color);\n",
              "      border-top-color: var(--fill-color);\n",
              "      border-right-color: var(--fill-color);\n",
              "    }\n",
              "    40% {\n",
              "      border-color: transparent;\n",
              "      border-right-color: var(--fill-color);\n",
              "      border-top-color: var(--fill-color);\n",
              "    }\n",
              "    60% {\n",
              "      border-color: transparent;\n",
              "      border-right-color: var(--fill-color);\n",
              "    }\n",
              "    80% {\n",
              "      border-color: transparent;\n",
              "      border-right-color: var(--fill-color);\n",
              "      border-bottom-color: var(--fill-color);\n",
              "    }\n",
              "    90% {\n",
              "      border-color: transparent;\n",
              "      border-bottom-color: var(--fill-color);\n",
              "    }\n",
              "  }\n",
              "</style>\n",
              "\n",
              "  <script>\n",
              "    async function quickchart(key) {\n",
              "      const quickchartButtonEl =\n",
              "        document.querySelector('#' + key + ' button');\n",
              "      quickchartButtonEl.disabled = true;  // To prevent multiple clicks.\n",
              "      quickchartButtonEl.classList.add('colab-df-spinner');\n",
              "      try {\n",
              "        const charts = await google.colab.kernel.invokeFunction(\n",
              "            'suggestCharts', [key], {});\n",
              "      } catch (error) {\n",
              "        console.error('Error during call to suggestCharts:', error);\n",
              "      }\n",
              "      quickchartButtonEl.classList.remove('colab-df-spinner');\n",
              "      quickchartButtonEl.classList.add('colab-df-quickchart-complete');\n",
              "    }\n",
              "    (() => {\n",
              "      let quickchartButtonEl =\n",
              "        document.querySelector('#df-6fd172aa-bddc-4d2f-8828-aff51528714d button');\n",
              "      quickchartButtonEl.style.display =\n",
              "        google.colab.kernel.accessAllowed ? 'block' : 'none';\n",
              "    })();\n",
              "  </script>\n",
              "</div>\n",
              "    </div>\n",
              "  </div>\n"
            ],
            "application/vnd.google.colaboratory.intrinsic+json": {
              "type": "dataframe",
              "variable_name": "df",
              "summary": "{\n  \"name\": \"df\",\n  \"rows\": 10,\n  \"fields\": [\n    {\n      \"column\": \"Degree Centrality\",\n      \"properties\": {\n        \"dtype\": \"number\",\n        \"std\": 0.16728281171312911,\n        \"min\": 0.1111111111111111,\n        \"max\": 0.6666666666666666,\n        \"num_unique_values\": 6,\n        \"samples\": [\n          0.6666666666666666,\n          0.3333333333333333,\n          0.1111111111111111\n        ],\n        \"semantic_type\": \"\",\n        \"description\": \"\"\n      }\n    },\n    {\n      \"column\": \"Betweenness Centrality\",\n      \"properties\": {\n        \"dtype\": \"number\",\n        \"std\": 0.13737515289243793,\n        \"min\": 0.0,\n        \"max\": 0.38888888888888884,\n        \"num_unique_values\": 7,\n        \"samples\": [\n          0.10185185185185183,\n          0.0,\n          0.38888888888888884\n        ],\n        \"semantic_type\": \"\",\n        \"description\": \"\"\n      }\n    },\n    {\n      \"column\": \"Closeness Centrality\",\n      \"properties\": {\n        \"dtype\": \"number\",\n        \"std\": 0.10305496619859557,\n        \"min\": 0.3103448275862069,\n        \"max\": 0.6428571428571429,\n        \"num_unique_values\": 6,\n        \"samples\": [\n          0.6,\n          0.5,\n          0.3103448275862069\n        ],\n        \"semantic_type\": \"\",\n        \"description\": \"\"\n      }\n    }\n  ]\n}"
            }
          },
          "metadata": {}
        }
      ]
    },
    {
      "cell_type": "markdown",
      "source": [
        "## **Centrality Measure Results**\n",
        "\n",
        "### **Degree Centrality**\n",
        "The **degree centrality** is the measure of the number of connections each node has in a network. The higher the degree centrality, the more connections it has. From the network, we can visually observe that Jill has a lot of connections. This is also supported by its measure of degree centrality with a value of 0.6667 in comparison to the other actors in the network. The actor with the lowest degree centrality is Lisa, with a value of 0.1111. This is understood as it only has one connection which is Allen.\n",
        "\n",
        "### **Betweenness Centrality**\n",
        "The **betweenness centrality** is the measure of how often a node/actor is found in the shortest path between two other nodes/actors in the network. A high betweenness corresponds to storage of information or resources. In the results, we can see that the node with the highest betweenness centraliy is Liz. Visually, we can observe this since when we have Allen or Lisa as a source/target, they all have to pass by Liz. On the other hand, the node with the lowest betweenness centrality is Mike, Lisa, Leah with a value of 0. Lisa is at the edge of the Graph, and thus, could not be passed by any shortest path between two actors. The same with Mike and Leah, despite being connected with two other nodes, their shortest path both does not involve passing through Mike and Leah.\n",
        "\n",
        "### **Closeness Centrality**\n",
        "The **closenesss centrality** is measure of the closeness/distance of a node to other nodes in the network. A high closeness centrality indicates that these nodes can easily communicate with others in comparison to the others. This means that they need to travel less in the network in order to reach other nodes. In the results, we can see that the node with the highest closeness centrality is Emma and Shane. Visually, we can see that both of them are located in the center of the nextwork. In comparison to Lisa with a low closeness centrality which is at the edge of the network."
      ],
      "metadata": {
        "id": "UvJ8qsSzoxfF"
      }
    },
    {
      "cell_type": "markdown",
      "source": [
        "## **Centrality Measures through manual code**\n",
        "\n",
        "Now, we actually took the easy way in obtaining the centrality measures since we are provided by the NetworkX library. To further understand these measures, we can delve deeper by manually getting these measures and understanding how they work."
      ],
      "metadata": {
        "id": "RArEIlQr0NVm"
      }
    },
    {
      "cell_type": "markdown",
      "source": [
        "**Degree Centrality**\n",
        "\n",
        "The degree centrality is defined by\n",
        "\n",
        "$C_{D}(n) = \\frac{deg(n)}{g-1}$\n",
        "\n",
        "where g is the number of nodes and deg(n) is the number of nodes connected to node n. Thus we define a function:"
      ],
      "metadata": {
        "id": "NHvKjMV60kOB"
      }
    },
    {
      "cell_type": "code",
      "source": [
        "def get_degcent(G):\n",
        "    deg_centrality = {} #Store the values\n",
        "    for n in G.nodes(): #For each node\n",
        "        deg_centrality[n] = len(list(G.neighbors(n)))/(len(G.nodes()) - 1) #Number of nodes connected to n over the total number of nodes - 1\n",
        "    return deg_centrality"
      ],
      "metadata": {
        "id": "avwcsqD9FzH1"
      },
      "execution_count": 238,
      "outputs": []
    },
    {
      "cell_type": "markdown",
      "source": [
        "**Betweenness Centrality**\n",
        "\n",
        "The betweenness centrality is defined by\n",
        "\n",
        "$C_{B}(n_i) = \\sum\\frac{g_{jk}(n_i)}{g_{jk}}$\n",
        "\n",
        "where $\\frac{g_{jk}(n_i)}{g_{jk}}$ is the probability that distinct actor $n_i$ is in communication between two actors $n_j$ and $n_k$"
      ],
      "metadata": {
        "id": "nQBDAdmzNMLK"
      }
    },
    {
      "cell_type": "code",
      "source": [
        "def get_betweenness_centrality(G):\n",
        "    betweenness = {node: 0.0 for node in G.nodes()}\n",
        "\n",
        "    #For each node n, there is a pair of nodes: source and target\n",
        "    for n in G.nodes():\n",
        "        for source in G.nodes():\n",
        "            for target in G.nodes():\n",
        "                if source == target:  #Skip if source is target\n",
        "                    continue\n",
        "                #For each source and target, list all shortest paths\n",
        "                short_paths = list(nx.all_shortest_paths(G, source=source, target=target))\n",
        "                total_shortest_paths = len(short_paths)  #Get total number of shortest paths for this source-target pair\n",
        "\n",
        "                #For every path, check if n is present and sum up the ratio\n",
        "                for path in short_paths:\n",
        "                    if n in path[1:-1]: #Excluding the source and target\n",
        "                      betweenness[n] += 1 /total_shortest_paths\n",
        "\n",
        "    # Normalize and divide by 2 for undirected graphs\n",
        "    for n in betweenness:\n",
        "        betweenness[n] /= (len(G.nodes()) - 1) * (len(G.nodes()) - 2)/2\n",
        "        betweenness[n] /= 2\n",
        "\n",
        "    return betweenness"
      ],
      "metadata": {
        "id": "oTEgyOxU9iRC"
      },
      "execution_count": 296,
      "outputs": []
    },
    {
      "cell_type": "markdown",
      "source": [
        "**Closeness Centrality**\n",
        "\n",
        "Note: This code for closeness centrality is mainly based on https://www.geeksforgeeks.org/closeness-centrality-centrality-measure/.\n",
        "\n",
        "The closeness centrality is defined by\n",
        "\n",
        "$C_{C}(n) = \\frac{g-1}{\\sum_{j=1}^{g}d(n_i, n_j)}$\n",
        "\n",
        "The denominator means that for each node, we calculate its distance to all the other nodes and sum it up."
      ],
      "metadata": {
        "id": "mzbpjmqO2byk"
      }
    },
    {
      "cell_type": "code",
      "source": [
        "def get_closeness_centrality(G, distance=None):\n",
        "    path_length = (functools.partial(nx.single_source_dijkstra_path_length, weight=distance)\n",
        "                   if distance else nx.single_source_shortest_path_length)\n",
        "\n",
        "    closeness_centrality = {} #Store the values\n",
        "    for n in G.nodes():\n",
        "        short_paths = path_length(G, n) #Shortest paths from the node to all other nodes\n",
        "        total_shortpaths = sum(short_paths.values()) #Total shortest path lengths\n",
        "        if total_shortpaths > 0.0 and len(G) > 1: #If there are non-zero total shortest paths and if the graph has more than one node\n",
        "            closeness = (len(short_paths) - 1) / total_shortpaths\n",
        "            closeness_centrality[n] = closeness\n",
        "        else:\n",
        "            closeness_centrality[n] = 0.0 #Set to 0 if there are no shortest paths\n",
        "\n",
        "    return closeness_centrality"
      ],
      "metadata": {
        "id": "_Xxa5kbHKsrY"
      },
      "execution_count": 239,
      "outputs": []
    },
    {
      "cell_type": "markdown",
      "source": [
        "Using the manual code, we have these results:"
      ],
      "metadata": {
        "id": "VQrM3EFZ5DG6"
      }
    },
    {
      "cell_type": "code",
      "source": [
        "centrality_measures = {\n",
        "    'Degree Centrality': get_degcent(G),\n",
        "    'Betweenness Centrality': get_betweenness_centrality(G),\n",
        "    'Closeness Centrality': get_closeness_centrality(G)}\n",
        "print(get_betweenness_centrality(G))\n",
        "df = pd.DataFrame(centrality_measures)\n",
        "\n",
        "display(df)"
      ],
      "metadata": {
        "colab": {
          "base_uri": "https://localhost:8080/",
          "height": 401
        },
        "id": "hXSQhzvxWeBf",
        "outputId": "64f415e7-a7d8-46f2-975a-fa5154222280"
      },
      "execution_count": 295,
      "outputs": [
        {
          "output_type": "stream",
          "name": "stdout",
          "text": [
            "{'Jill': 0.10185185185185183, 'Mike': 0.0, 'Leah': 0.0, 'Bob': 0.023148148148148147, 'Emma': 0.23148148148148145, 'John': 0.023148148148148147, 'Shane': 0.23148148148148145, 'Liz': 0.3888888888888889, 'Allen': 0.2222222222222222, 'Lisa': 0.0}\n"
          ]
        },
        {
          "output_type": "display_data",
          "data": {
            "text/plain": [
              "       Degree Centrality  Betweenness Centrality  Closeness Centrality\n",
              "Jill            0.666667                0.101852              0.600000\n",
              "Mike            0.333333                0.000000              0.500000\n",
              "Leah            0.333333                0.000000              0.500000\n",
              "Bob             0.444444                0.023148              0.529412\n",
              "Emma            0.555556                0.231481              0.642857\n",
              "John            0.444444                0.023148              0.529412\n",
              "Shane           0.555556                0.231481              0.642857\n",
              "Liz             0.333333                0.388889              0.600000\n",
              "Allen           0.222222                0.222222              0.428571\n",
              "Lisa            0.111111                0.000000              0.310345"
            ],
            "text/html": [
              "\n",
              "  <div id=\"df-0ca2e88c-e5f7-4ec4-a19d-080d41ffbcd7\" class=\"colab-df-container\">\n",
              "    <div>\n",
              "<style scoped>\n",
              "    .dataframe tbody tr th:only-of-type {\n",
              "        vertical-align: middle;\n",
              "    }\n",
              "\n",
              "    .dataframe tbody tr th {\n",
              "        vertical-align: top;\n",
              "    }\n",
              "\n",
              "    .dataframe thead th {\n",
              "        text-align: right;\n",
              "    }\n",
              "</style>\n",
              "<table border=\"1\" class=\"dataframe\">\n",
              "  <thead>\n",
              "    <tr style=\"text-align: right;\">\n",
              "      <th></th>\n",
              "      <th>Degree Centrality</th>\n",
              "      <th>Betweenness Centrality</th>\n",
              "      <th>Closeness Centrality</th>\n",
              "    </tr>\n",
              "  </thead>\n",
              "  <tbody>\n",
              "    <tr>\n",
              "      <th>Jill</th>\n",
              "      <td>0.666667</td>\n",
              "      <td>0.101852</td>\n",
              "      <td>0.600000</td>\n",
              "    </tr>\n",
              "    <tr>\n",
              "      <th>Mike</th>\n",
              "      <td>0.333333</td>\n",
              "      <td>0.000000</td>\n",
              "      <td>0.500000</td>\n",
              "    </tr>\n",
              "    <tr>\n",
              "      <th>Leah</th>\n",
              "      <td>0.333333</td>\n",
              "      <td>0.000000</td>\n",
              "      <td>0.500000</td>\n",
              "    </tr>\n",
              "    <tr>\n",
              "      <th>Bob</th>\n",
              "      <td>0.444444</td>\n",
              "      <td>0.023148</td>\n",
              "      <td>0.529412</td>\n",
              "    </tr>\n",
              "    <tr>\n",
              "      <th>Emma</th>\n",
              "      <td>0.555556</td>\n",
              "      <td>0.231481</td>\n",
              "      <td>0.642857</td>\n",
              "    </tr>\n",
              "    <tr>\n",
              "      <th>John</th>\n",
              "      <td>0.444444</td>\n",
              "      <td>0.023148</td>\n",
              "      <td>0.529412</td>\n",
              "    </tr>\n",
              "    <tr>\n",
              "      <th>Shane</th>\n",
              "      <td>0.555556</td>\n",
              "      <td>0.231481</td>\n",
              "      <td>0.642857</td>\n",
              "    </tr>\n",
              "    <tr>\n",
              "      <th>Liz</th>\n",
              "      <td>0.333333</td>\n",
              "      <td>0.388889</td>\n",
              "      <td>0.600000</td>\n",
              "    </tr>\n",
              "    <tr>\n",
              "      <th>Allen</th>\n",
              "      <td>0.222222</td>\n",
              "      <td>0.222222</td>\n",
              "      <td>0.428571</td>\n",
              "    </tr>\n",
              "    <tr>\n",
              "      <th>Lisa</th>\n",
              "      <td>0.111111</td>\n",
              "      <td>0.000000</td>\n",
              "      <td>0.310345</td>\n",
              "    </tr>\n",
              "  </tbody>\n",
              "</table>\n",
              "</div>\n",
              "    <div class=\"colab-df-buttons\">\n",
              "\n",
              "  <div class=\"colab-df-container\">\n",
              "    <button class=\"colab-df-convert\" onclick=\"convertToInteractive('df-0ca2e88c-e5f7-4ec4-a19d-080d41ffbcd7')\"\n",
              "            title=\"Convert this dataframe to an interactive table.\"\n",
              "            style=\"display:none;\">\n",
              "\n",
              "  <svg xmlns=\"http://www.w3.org/2000/svg\" height=\"24px\" viewBox=\"0 -960 960 960\">\n",
              "    <path d=\"M120-120v-720h720v720H120Zm60-500h600v-160H180v160Zm220 220h160v-160H400v160Zm0 220h160v-160H400v160ZM180-400h160v-160H180v160Zm440 0h160v-160H620v160ZM180-180h160v-160H180v160Zm440 0h160v-160H620v160Z\"/>\n",
              "  </svg>\n",
              "    </button>\n",
              "\n",
              "  <style>\n",
              "    .colab-df-container {\n",
              "      display:flex;\n",
              "      gap: 12px;\n",
              "    }\n",
              "\n",
              "    .colab-df-convert {\n",
              "      background-color: #E8F0FE;\n",
              "      border: none;\n",
              "      border-radius: 50%;\n",
              "      cursor: pointer;\n",
              "      display: none;\n",
              "      fill: #1967D2;\n",
              "      height: 32px;\n",
              "      padding: 0 0 0 0;\n",
              "      width: 32px;\n",
              "    }\n",
              "\n",
              "    .colab-df-convert:hover {\n",
              "      background-color: #E2EBFA;\n",
              "      box-shadow: 0px 1px 2px rgba(60, 64, 67, 0.3), 0px 1px 3px 1px rgba(60, 64, 67, 0.15);\n",
              "      fill: #174EA6;\n",
              "    }\n",
              "\n",
              "    .colab-df-buttons div {\n",
              "      margin-bottom: 4px;\n",
              "    }\n",
              "\n",
              "    [theme=dark] .colab-df-convert {\n",
              "      background-color: #3B4455;\n",
              "      fill: #D2E3FC;\n",
              "    }\n",
              "\n",
              "    [theme=dark] .colab-df-convert:hover {\n",
              "      background-color: #434B5C;\n",
              "      box-shadow: 0px 1px 3px 1px rgba(0, 0, 0, 0.15);\n",
              "      filter: drop-shadow(0px 1px 2px rgba(0, 0, 0, 0.3));\n",
              "      fill: #FFFFFF;\n",
              "    }\n",
              "  </style>\n",
              "\n",
              "    <script>\n",
              "      const buttonEl =\n",
              "        document.querySelector('#df-0ca2e88c-e5f7-4ec4-a19d-080d41ffbcd7 button.colab-df-convert');\n",
              "      buttonEl.style.display =\n",
              "        google.colab.kernel.accessAllowed ? 'block' : 'none';\n",
              "\n",
              "      async function convertToInteractive(key) {\n",
              "        const element = document.querySelector('#df-0ca2e88c-e5f7-4ec4-a19d-080d41ffbcd7');\n",
              "        const dataTable =\n",
              "          await google.colab.kernel.invokeFunction('convertToInteractive',\n",
              "                                                    [key], {});\n",
              "        if (!dataTable) return;\n",
              "\n",
              "        const docLinkHtml = 'Like what you see? Visit the ' +\n",
              "          '<a target=\"_blank\" href=https://colab.research.google.com/notebooks/data_table.ipynb>data table notebook</a>'\n",
              "          + ' to learn more about interactive tables.';\n",
              "        element.innerHTML = '';\n",
              "        dataTable['output_type'] = 'display_data';\n",
              "        await google.colab.output.renderOutput(dataTable, element);\n",
              "        const docLink = document.createElement('div');\n",
              "        docLink.innerHTML = docLinkHtml;\n",
              "        element.appendChild(docLink);\n",
              "      }\n",
              "    </script>\n",
              "  </div>\n",
              "\n",
              "\n",
              "<div id=\"df-146ddfc0-fa03-414f-bf7d-783940aebd49\">\n",
              "  <button class=\"colab-df-quickchart\" onclick=\"quickchart('df-146ddfc0-fa03-414f-bf7d-783940aebd49')\"\n",
              "            title=\"Suggest charts\"\n",
              "            style=\"display:none;\">\n",
              "\n",
              "<svg xmlns=\"http://www.w3.org/2000/svg\" height=\"24px\"viewBox=\"0 0 24 24\"\n",
              "     width=\"24px\">\n",
              "    <g>\n",
              "        <path d=\"M19 3H5c-1.1 0-2 .9-2 2v14c0 1.1.9 2 2 2h14c1.1 0 2-.9 2-2V5c0-1.1-.9-2-2-2zM9 17H7v-7h2v7zm4 0h-2V7h2v10zm4 0h-2v-4h2v4z\"/>\n",
              "    </g>\n",
              "</svg>\n",
              "  </button>\n",
              "\n",
              "<style>\n",
              "  .colab-df-quickchart {\n",
              "      --bg-color: #E8F0FE;\n",
              "      --fill-color: #1967D2;\n",
              "      --hover-bg-color: #E2EBFA;\n",
              "      --hover-fill-color: #174EA6;\n",
              "      --disabled-fill-color: #AAA;\n",
              "      --disabled-bg-color: #DDD;\n",
              "  }\n",
              "\n",
              "  [theme=dark] .colab-df-quickchart {\n",
              "      --bg-color: #3B4455;\n",
              "      --fill-color: #D2E3FC;\n",
              "      --hover-bg-color: #434B5C;\n",
              "      --hover-fill-color: #FFFFFF;\n",
              "      --disabled-bg-color: #3B4455;\n",
              "      --disabled-fill-color: #666;\n",
              "  }\n",
              "\n",
              "  .colab-df-quickchart {\n",
              "    background-color: var(--bg-color);\n",
              "    border: none;\n",
              "    border-radius: 50%;\n",
              "    cursor: pointer;\n",
              "    display: none;\n",
              "    fill: var(--fill-color);\n",
              "    height: 32px;\n",
              "    padding: 0;\n",
              "    width: 32px;\n",
              "  }\n",
              "\n",
              "  .colab-df-quickchart:hover {\n",
              "    background-color: var(--hover-bg-color);\n",
              "    box-shadow: 0 1px 2px rgba(60, 64, 67, 0.3), 0 1px 3px 1px rgba(60, 64, 67, 0.15);\n",
              "    fill: var(--button-hover-fill-color);\n",
              "  }\n",
              "\n",
              "  .colab-df-quickchart-complete:disabled,\n",
              "  .colab-df-quickchart-complete:disabled:hover {\n",
              "    background-color: var(--disabled-bg-color);\n",
              "    fill: var(--disabled-fill-color);\n",
              "    box-shadow: none;\n",
              "  }\n",
              "\n",
              "  .colab-df-spinner {\n",
              "    border: 2px solid var(--fill-color);\n",
              "    border-color: transparent;\n",
              "    border-bottom-color: var(--fill-color);\n",
              "    animation:\n",
              "      spin 1s steps(1) infinite;\n",
              "  }\n",
              "\n",
              "  @keyframes spin {\n",
              "    0% {\n",
              "      border-color: transparent;\n",
              "      border-bottom-color: var(--fill-color);\n",
              "      border-left-color: var(--fill-color);\n",
              "    }\n",
              "    20% {\n",
              "      border-color: transparent;\n",
              "      border-left-color: var(--fill-color);\n",
              "      border-top-color: var(--fill-color);\n",
              "    }\n",
              "    30% {\n",
              "      border-color: transparent;\n",
              "      border-left-color: var(--fill-color);\n",
              "      border-top-color: var(--fill-color);\n",
              "      border-right-color: var(--fill-color);\n",
              "    }\n",
              "    40% {\n",
              "      border-color: transparent;\n",
              "      border-right-color: var(--fill-color);\n",
              "      border-top-color: var(--fill-color);\n",
              "    }\n",
              "    60% {\n",
              "      border-color: transparent;\n",
              "      border-right-color: var(--fill-color);\n",
              "    }\n",
              "    80% {\n",
              "      border-color: transparent;\n",
              "      border-right-color: var(--fill-color);\n",
              "      border-bottom-color: var(--fill-color);\n",
              "    }\n",
              "    90% {\n",
              "      border-color: transparent;\n",
              "      border-bottom-color: var(--fill-color);\n",
              "    }\n",
              "  }\n",
              "</style>\n",
              "\n",
              "  <script>\n",
              "    async function quickchart(key) {\n",
              "      const quickchartButtonEl =\n",
              "        document.querySelector('#' + key + ' button');\n",
              "      quickchartButtonEl.disabled = true;  // To prevent multiple clicks.\n",
              "      quickchartButtonEl.classList.add('colab-df-spinner');\n",
              "      try {\n",
              "        const charts = await google.colab.kernel.invokeFunction(\n",
              "            'suggestCharts', [key], {});\n",
              "      } catch (error) {\n",
              "        console.error('Error during call to suggestCharts:', error);\n",
              "      }\n",
              "      quickchartButtonEl.classList.remove('colab-df-spinner');\n",
              "      quickchartButtonEl.classList.add('colab-df-quickchart-complete');\n",
              "    }\n",
              "    (() => {\n",
              "      let quickchartButtonEl =\n",
              "        document.querySelector('#df-146ddfc0-fa03-414f-bf7d-783940aebd49 button');\n",
              "      quickchartButtonEl.style.display =\n",
              "        google.colab.kernel.accessAllowed ? 'block' : 'none';\n",
              "    })();\n",
              "  </script>\n",
              "</div>\n",
              "    </div>\n",
              "  </div>\n"
            ],
            "application/vnd.google.colaboratory.intrinsic+json": {
              "type": "dataframe",
              "variable_name": "df",
              "summary": "{\n  \"name\": \"df\",\n  \"rows\": 10,\n  \"fields\": [\n    {\n      \"column\": \"Degree Centrality\",\n      \"properties\": {\n        \"dtype\": \"number\",\n        \"std\": 0.16728281171312911,\n        \"min\": 0.1111111111111111,\n        \"max\": 0.6666666666666666,\n        \"num_unique_values\": 6,\n        \"samples\": [\n          0.6666666666666666,\n          0.3333333333333333,\n          0.1111111111111111\n        ],\n        \"semantic_type\": \"\",\n        \"description\": \"\"\n      }\n    },\n    {\n      \"column\": \"Betweenness Centrality\",\n      \"properties\": {\n        \"dtype\": \"number\",\n        \"std\": 0.13737515289243793,\n        \"min\": 0.0,\n        \"max\": 0.3888888888888889,\n        \"num_unique_values\": 6,\n        \"samples\": [\n          0.10185185185185183,\n          0.0,\n          0.2222222222222222\n        ],\n        \"semantic_type\": \"\",\n        \"description\": \"\"\n      }\n    },\n    {\n      \"column\": \"Closeness Centrality\",\n      \"properties\": {\n        \"dtype\": \"number\",\n        \"std\": 0.10305496619859557,\n        \"min\": 0.3103448275862069,\n        \"max\": 0.6428571428571429,\n        \"num_unique_values\": 6,\n        \"samples\": [\n          0.6,\n          0.5,\n          0.3103448275862069\n        ],\n        \"semantic_type\": \"\",\n        \"description\": \"\"\n      }\n    }\n  ]\n}"
            }
          },
          "metadata": {}
        }
      ]
    },
    {
      "cell_type": "markdown",
      "source": [
        "We verify that our manual code is correct as it has the same results using the NetworkX functions!"
      ],
      "metadata": {
        "id": "WmUNKXHbGPZi"
      }
    },
    {
      "cell_type": "markdown",
      "source": [
        "#### PART 3 - Identify communities *(40 points)*\n",
        "\n",
        "1. Identify communities in the social network using *(30 points)*:\n",
        "- Louvain community detection algorithm\n",
        "- Any other community detection algorithm of your choice\n",
        "\n",
        "2. Calculate the modularity of the partitions from the two community detection algorithms. *(10 points)*\n",
        "\n",
        "Briefly describe the algorithm you used and compare the results from the two algorithms."
      ],
      "metadata": {
        "id": "RmD300mBfQQH"
      }
    },
    {
      "cell_type": "markdown",
      "source": [
        "# **COMMUNITIES**\n",
        "\n",
        "\n",
        "A community is defined as subset of nodes within the network. Community detection algorithms have been mainly used to map the network into a tree. There are several community detection algorithms, but in this module we will tackle two: (1) Louvain community detecttion algorithm and (2) Girvan-Newman community detection algorithm.\n",
        "\n",
        "Source: https://www.pnas.org/doi/full/10.1073/pnas.0400054101#:~:text=Qualitatively%2C%20a%20community%20is%20defined,1)."
      ],
      "metadata": {
        "id": "UzjmLVZubFcr"
      }
    },
    {
      "cell_type": "code",
      "source": [
        "import matplotlib.pyplot as plt\n",
        "import community.community_louvain as community_louvain"
      ],
      "metadata": {
        "id": "deBmiyRqfYJJ"
      },
      "execution_count": 241,
      "outputs": []
    },
    {
      "cell_type": "markdown",
      "source": [
        "## **Louvain community detection algorithm**\n",
        "\n",
        "The Louvain algorithm is based on maximizing the modularity, where it tries to partition communities such that connections inside are dense. It aims to divide the network into communities that maximizes the difference between the actual number of edges and the expected number of edges. This process helps identify densely connected groups within the network.\n",
        "\n",
        "## **Girvan-Newman community detection algorithm**\n",
        "\n",
        "The Girvan-Newman algorithm is based on edge betweenness to identify communities. It removes edges that have the most significant number of shortest paths passing through them between nodes.\n",
        "\n",
        "For every edge in the graph, the betweenness centrality is calculated. The edge with the highest betweenness centrality is then removed. The betweenness centrality for every remaining edge is then calculated. This process is repeated until there are no more edges left.\n",
        "\n",
        "\n"
      ],
      "metadata": {
        "id": "lXgX2ImChu11"
      }
    },
    {
      "cell_type": "code",
      "source": [
        "#Layout for visualization\n",
        "pos = nx.spring_layout(G)\n",
        "fig, axs = plt.subplots(1, 2, figsize=(14, 6))\n",
        "\n",
        "#Louvain community detection\n",
        "louvain_communities = nx.community.louvain_communities(G)\n",
        "louvain_partition = community_louvain.best_partition(G)\n",
        "node_groups = list((louvain_communities))\n",
        "cmap = cm.get_cmap('coolwarm', max(louvain_partition.values()) + 1)\n",
        "axs[0].set_title(\"Louvain Community Detection\", fontweight='bold', fontsize=18)\n",
        "nx.draw(G, pos=pos, ax=axs[0], node_size=800, with_labels=True, alpha=0.8, node_color=[cmap(color) for node, color in louvain_partition.items()])\n",
        "\n",
        "#Girvan-Newman community detection\n",
        "girvan_newman_communities = nx.community.girvan_newman(G)\n",
        "node_groups = list(next(girvan_newman_communities))\n",
        "axs[1].set_title(\"Girvan-Newman Community Detection\", fontweight='bold', fontsize=18)\n",
        "nx.draw(G, pos=pos, ax=axs[1], node_size=800, with_labels=True, alpha=0.8, node_color=['orangered' if node in node_groups[0] else 'lightseagreen' for node in G.nodes()])\n",
        "\n",
        "plt.tight_layout()\n",
        "plt.show()"
      ],
      "metadata": {
        "colab": {
          "base_uri": "https://localhost:8080/",
          "height": 632
        },
        "id": "4NWFoNkLcFqD",
        "outputId": "097ea6e5-7d3e-423d-feac-7477b0fcb963"
      },
      "execution_count": 242,
      "outputs": [
        {
          "output_type": "stream",
          "name": "stderr",
          "text": [
            "<ipython-input-242-a400ab178e3b>:9: MatplotlibDeprecationWarning: The get_cmap function was deprecated in Matplotlib 3.7 and will be removed two minor releases later. Use ``matplotlib.colormaps[name]`` or ``matplotlib.colormaps.get_cmap(obj)`` instead.\n",
            "  cmap = cm.get_cmap('coolwarm', max(louvain_partition.values()) + 1)\n"
          ]
        },
        {
          "output_type": "display_data",
          "data": {
            "text/plain": [
              "<Figure size 1400x600 with 2 Axes>"
            ],
            "image/png": "[encoded data removed]"
          },
          "metadata": {}
        }
      ]
    },
    {
      "cell_type": "markdown",
      "source": [
        "From the results above, we can see that the Louvain algorithm detected three communities:\n",
        "\n",
        "* Community 1: Lisa, Allen, Liz\n",
        "* Communtiy 2: Emma, Jill, Mike, Bob\n",
        "* Community 3: Shane, Leah, John\n",
        "\n",
        "On the other hand, the Girvan-Newman detected two communities:\n",
        "\n",
        "* Community 1: Lisa, Allen\n",
        "* Community 2: Liz, Shane, Emma, Jill, John, Leah, Bob, Mike\n",
        "\n",
        "Both of these algorithms were able to uncover the subsets of a network using different approaches. However, to quantify these community separation, we can calculate their modularities below."
      ],
      "metadata": {
        "id": "9JX-p9ymsmpa"
      }
    },
    {
      "cell_type": "markdown",
      "source": [
        "## **Modularity**"
      ],
      "metadata": {
        "id": "hImwJcKmf7--"
      }
    },
    {
      "cell_type": "code",
      "source": [
        "#Louvain modularity\n",
        "modularity_lv = nx.community.modularity(G, louvain_communities)\n",
        "\n",
        "#Girvan-Newman modularity\n",
        "modularity_gn = 0\n",
        "for com in nx.community.girvan_newman(G):\n",
        "  modularity = nx.community.modularity(G, com)\n",
        "  modularity_gn+=modularity\n",
        "\n",
        "#Results\n",
        "print(f'Louvain modularity: {modularity_lv}')\n",
        "print(f'Girvan-Newman modularity: {modularity_gn}')"
      ],
      "metadata": {
        "colab": {
          "base_uri": "https://localhost:8080/"
        },
        "id": "b9uR1IDnf-Zi",
        "outputId": "1626b099-c3ff-40b9-de2e-7fa792e5164c"
      },
      "execution_count": 243,
      "outputs": [
        {
          "output_type": "stream",
          "name": "stdout",
          "text": [
            "Louvain modularity: 0.2222222222222222\n",
            "Girvan-Newman modularity: 0.35185185185185175\n"
          ]
        }
      ]
    },
    {
      "cell_type": "markdown",
      "source": [
        "We see from the results above that the Girvan-Newman algorithm has a higher modularity score. A higher modularity score indicates better separation of the communities."
      ],
      "metadata": {
        "id": "QLt-mtvEvIr5"
      }
    },
    {
      "cell_type": "markdown",
      "source": [
        "# **Acknowledgements**\n",
        "\n",
        "I would like to thank Sean Manlinguez from AP 157 TX-1 for helping me fix my code for the manual calculation of betweenness centrality. I intially struggled with the flow of the code but with his help I was able to make it work."
      ],
      "metadata": {
        "id": "jD7y7ScQGaVi"
      }
    }
  ]
}