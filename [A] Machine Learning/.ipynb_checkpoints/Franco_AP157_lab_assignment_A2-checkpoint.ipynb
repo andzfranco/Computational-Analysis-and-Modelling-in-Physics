{
 "cells": [
  {
   "cell_type": "markdown",
   "metadata": {
    "id": "ST5d6dw3dLZh"
   },
   "source": [
    "# **AP157 Machine Learning Lab Assignment**\n",
    "## Module A.2: Classification -- Morphological Classification of Galaxies using Decision Trees\n",
    "\n",
    "_Instructions_: Answer each part of the assignment as completely as you can. Discuss **all** your code and results as clearly and concisely as possible.\n",
    "\n",
    "_Scoring Criteria_: 50% - *correctness of code*; 50% - *discussion of the code and results*. Maximum score is **100 points** (Parts 1, 2, and 3 are worth 20, 40, and 40 points, respectively).\n",
    "\n",
    "_Credits_: This assignment is based on the Week 6 module of the Coursera course \"Data-driven Astronomy\", \"Exploring machine learning classification\" ([link](https://www.coursera.org/learn/data-driven-astronomy/home/welcome))"
   ]
  },
  {
   "cell_type": "markdown",
   "metadata": {
    "id": "iZZaEzKHdVYG"
   },
   "source": [
    "### Student Information\n",
    "\n",
    "_Full Name (Last Name, First Name)_: Franco, Andrea Rose\\\n",
    "_Student No._: 2021-06793\\\n",
    "_Section_: TX-2"
   ]
  },
  {
   "cell_type": "markdown",
   "metadata": {
    "id": "Xv1STpPodaDL"
   },
   "source": [
    "### Submission Information\n",
    "\n",
    "_Date and Time Submitted (most recent upload)_:\n",
    "\n",
    "**HONOR PLEDGE** I affirm that I have upheld the highest principles of honesty and integrity in my academic work and that this lab assignment is my own work.\n",
    "\n",
    "**Sign here with your full name:** ANDREA ROSE V. FRANCO"
   ]
  },
  {
   "cell_type": "markdown",
   "metadata": {
    "id": "8zw1kC_rdoHT"
   },
   "source": [
    "### Grading Information (c/o Instructor)\n",
    "\n",
    "TOTAL SCORE: **100**/100\n",
    "\n",
    "Score breakdown:\n",
    "* Part 1 - []/20\n",
    "* Part 2 - []/40\n",
    "* Part 3 - []/40\n",
    "\n",
    "_Date and Time Scored (MM/DD/YYYY HH:MM AM/PM):_"
   ]
  },
  {
   "cell_type": "markdown",
   "metadata": {
    "id": "UNaYs-MfeDRl"
   },
   "source": [
    "For this assignment, you will work with galaxy data from the\n",
    "Sloan Digital Sky Survey (SDSS). First, you need to make a copy of the binary file ```galaxy_catalogue.npy``` and save it to a folder in your **own Google Drive**. This file is available from the AP157 Machine Learning Google Drive (under the Datasets folder).\n",
    "\n",
    "The code cells below will (1) mount your Google Drive and (2) load ```galaxy_catalogue.npy``` from your Google Drive folder."
   ]
  },
  {
   "cell_type": "markdown",
   "metadata": {
    "id": "ee1mHlUWfcsc"
   },
   "source": [
    "Mount the Google Drive where you saved the .npy file.\n",
    "\n",
    "When you run this cell, you will be asked to sign in to your Google account and you will get an authorization code. Paste the code on the provided cell to mount the Google Drive."
   ]
  },
  {
   "cell_type": "code",
   "execution_count": 1,
   "metadata": {
    "colab": {
     "base_uri": "https://localhost:8080/"
    },
    "id": "yH0IOwb1YBHc",
    "outputId": "f7930094-3c56-42b0-909c-1c54b0a714fc"
   },
   "outputs": [
    {
     "name": "stdout",
     "output_type": "stream",
     "text": [
      "Mounted at /content/drive\n"
     ]
    }
   ],
   "source": [
    "from google.colab import drive\n",
    "drive.mount(\"/content/drive\")"
   ]
  },
  {
   "cell_type": "markdown",
   "metadata": {
    "id": "k0C5c-8ofqDu"
   },
   "source": [
    "Run this command to list the directories in your Google Drive and check that the mount was successful."
   ]
  },
  {
   "cell_type": "code",
   "execution_count": 2,
   "metadata": {
    "colab": {
     "base_uri": "https://localhost:8080/"
    },
    "id": "mzKLlj20fsJu",
    "outputId": "b7e06fd5-0e59-448a-e9b1-aee3fa15d114",
    "scrolled": true
   },
   "outputs": [
    {
     "name": "stdout",
     "output_type": "stream",
     "text": [
      "'181 Techinal Report.gdoc'\n",
      "'Andrea Rose Franco - Peer Eval form.docx'\n",
      " Andz.JPG\n",
      "'App Phy 181 Exp 3.gsheet'\n",
      "'App Phy 181 Transistors.mp4'\n",
      "'APS March Meeting Satellite Session Form - UPPA.docx'\n",
      "' Authorization Letter.gdoc'\n",
      "'BSAppPhysics_instru_curriculum_post (1).pdf'\n",
      " BSAppPhysics_instru_curriculum_post.pdf\n",
      " Classroom\n",
      "'Colab Notebooks'\n",
      "'Copy of AP157 Module A2 - Classification.pptx'\n",
      "'Copy of VIP Progress Report.gslides'\n",
      " DataCamp\n",
      "'Deed of Undertaking.pdf'\n",
      "'DFA Authorization.gdoc'\n",
      "'DOST Scholarship'\n",
      "'DOST Scholarship Requirements (1).PNG'\n",
      "'DOST Scholarship Requirements.png'\n",
      "'DOST Scholarship Requirements.PNG'\n",
      "'DRAFT CONFORME_01052023 (1).docx'\n",
      "'DRAFT CONFORME_01052023.docx'\n",
      "'DRAFT CONFORME_01052023.gdoc'\n",
      " Enrollment\n",
      "'FORM5_2021-06793-1st Sem 23-24.pdf'\n",
      "'FORM5_2021-06793-2nd Sem 23-24 (1).pdf'\n",
      "'FORM5_2021-06793-2nd Sem 23-24.pdf'\n",
      " Franco_1_Identification_Of_Leukemia_Diseases_Based_On_Microscopic_Human_Blood_Cells_Using_Image_Processing.pdf\n",
      " Franco_1stSem2223.png\n",
      " Franco_2_Classification_and_Counting_of_Mycobacterium_Tuberculosis_from_Sputum_Microscopic_Image_using_Fuzzy_Logic.pdf\n",
      " Franco_3_Image_analysis_for_malaria_parasite_detection_from_microscopic_images_of_thick_blood_smear.pdf\n",
      "'FRANCO_ANDREA ROSE_202106793_GCASH.JPG'\n",
      "'FRANCO_ANDREA ROSE_202106793_ONLINE PAYMENT SLIP.pdf'\n",
      "'FRANCO, ANDREA ROSE Endorsement Letter (1).pdf'\n",
      "'FRANCO, ANDREA ROSE Endorsement Letter (2).pdf'\n",
      "'FRANCO, ANDREA ROSE Endorsement Letter (3).pdf'\n",
      "'FRANCO, ANDREA ROSE Endorsement Letter (4).pdf'\n",
      "'FRANCO, ANDREA ROSE Endorsement Letter.pdf'\n",
      "'FRANCO, ANDREA ROSE, VILLA - TCG_2021-06793[sgd].pdf'\n",
      "'FRANCO, AR - 2x2.JPEG'\n",
      "'FRANCO, AR - 2x2.jpg'\n",
      "'FRANCO, AR - Form 5.pdf'\n",
      "'FRANCO, AR - Letter of Intent.pdf'\n",
      "'FRANCO, AR - TCG.pdf'\n",
      " Franco_BrgyClearance.JPG\n",
      "'Franco - Certificate of Candidacy.docx'\n",
      "'Franco - Certificate of Candidacy.gdoc'\n",
      " Franco_ChicCentre.PNG\n",
      " FRANCO_Decembe.pdf\n",
      "'Franco - DOST Requirements.png'\n",
      "'Franco_Form5_1stSem2324 (1).pdf'\n",
      " Franco_Form5_1stSem2324.pdf\n",
      "'FRANCO_FORM5_2021-06793-2nd Sem 22-23.pdf'\n",
      "'Franco - IPL Journal Presentation.pdf'\n",
      " FRANCO_November.pdf\n",
      " FRANCO_October_POP.JPG\n",
      "'FRANCO - Passport and Visa.gdoc'\n",
      "'Franco  - PE2 SASD Student Agreement Form.gdoc'\n",
      "'Franco - PE2 SASD Student-Information-Sheet.gdoc'\n",
      " Franco_Physics_108_Academic_Integrity_Statement_2023.gdoc\n",
      " Franco_Physics151_Notebook1.pdf\n",
      " Franco_Physics151_Notebook2.pdf\n",
      " Franco_Physics151_PS1.pdf\n",
      " Franco_Physics151_PS2.pdf\n",
      "'Franco - Review of IPL Publications.pdf'\n",
      " FRANCO_SangguPayment.pdf\n",
      " Franco_TCG_1stSem2324.pdf\n",
      " Franco_TCG_2ndSem2324.pdf\n",
      " Franco_TechLife.PNG\n",
      "'Franco - UPPA Reaff Fee.JPG'\n",
      " Franoc_TCG_2ndSem2324.pdf\n",
      " IMG_1489.jpeg\n",
      " IMG_6021.jpeg\n",
      " IMG_6304.png\n",
      " IMG_6450.jpeg\n",
      " IMG_6564.jpeg\n",
      "'IPL Easy Coding.drawio.png'\n",
      " IPL-VIP\n",
      "'Meeting Reports'\n",
      " Motives.gdoc\n",
      "'My project.mp4'\n",
      " Nodes_and_Ways_Image.tif\n",
      "'NSTP Homework 1.gdoc'\n",
      " Organizations\n",
      "'PE2 SASD Student Agreement Form.gdoc'\n",
      " PE2SASD_WFBGroup1_Bachata.mp4\n",
      " Personal\n",
      "'PE -  Salsa.gdoc'\n",
      "'Physics Month 2023 High School Orgs Database.gform'\n",
      " Science_Math_Elective_from_the_BOR_Approved_BS_Applied_Physics_program_released2020.JPG\n",
      "'Script (1).gdoc'\n",
      " Script.gdoc\n",
      " Sparrow_DataSheet.pdf\n",
      " Sparrow_Experiment.pdf\n",
      "'Sparrow_Programming_Challenge (1).ipynb'\n",
      " Sparrow_Programming_Challenge.ipynb\n",
      "'Sparrow-Programming-Challenge.ipynb (Not actual paper).pdf'\n",
      " Sparrow_Programming_Challenge.pdf\n",
      "'Sparrow_Programming_Challenging (2).ipynb'\n",
      " Sparrow_Programming_Challenging.ipynb\n",
      " Sparrow_Programming_Easy.ipynb\n",
      " Sparrow_Programming_Easy.pdf\n",
      "'SY 2021-2022'\n",
      "'SY 2022-2023'\n",
      "'SY 2023-2024'\n",
      "'Untitled document.gdoc'\n",
      "'UPPA Exte 23-24'\n",
      " video2083808858.mp4\n",
      "'XRISM Notes.gdoc'\n"
     ]
    }
   ],
   "source": [
    "!ls drive/My\\ Drive"
   ]
  },
  {
   "cell_type": "markdown",
   "metadata": {
    "id": "XPLuh_jWfju8"
   },
   "source": [
    "Define the directory path to the location of the file, i.e. if it is in a\n",
    "folder named \"AP157\" under My Drive, then the file path will be \"/content/drive/My Drive/AP157\". Change the string variable in the code cell below, as needed:"
   ]
  },
  {
   "cell_type": "code",
   "execution_count": 3,
   "metadata": {
    "id": "jRpIuwdigDg5"
   },
   "outputs": [],
   "source": [
    "file_path = \"/content/drive/My Drive/SY 2023-2024/AP157/\""
   ]
  },
  {
   "cell_type": "markdown",
   "metadata": {
    "id": "VW7RFRGaik-6"
   },
   "source": [
    "Now, we can load the file using $\\tt numpy$'s $\\tt load$ function below.\n",
    "\n",
    "\n",
    "\n"
   ]
  },
  {
   "cell_type": "code",
   "execution_count": 4,
   "metadata": {
    "id": "y61tYmPIimUv"
   },
   "outputs": [],
   "source": [
    "import numpy as np\n",
    "\n",
    "data = np.load(file_path + 'galaxy_catalogue.npy')"
   ]
  },
  {
   "cell_type": "markdown",
   "metadata": {
    "id": "HpXP16UfWHQK"
   },
   "source": [
    "Print out the first couple of rows. Note that the columns are: $u-g$, $g-r$, $r-i$, $i-z$, eccentricity, $m_u$, $m_g$, $m_r$, $m_i$, $m_z$, $R_{50,u}$, $R_{50,r}$, $R_{50,z}$, $R_{90,u}$, $R_{90,r}$, $R_{90,z}$, and class."
   ]
  },
  {
   "cell_type": "code",
   "execution_count": 5,
   "metadata": {
    "colab": {
     "base_uri": "https://localhost:8080/"
    },
    "id": "HbQiDjyIWsjr",
    "outputId": "5ef987b4-443e-418a-f721-b224b6906dea"
   },
   "outputs": [
    {
     "data": {
      "text/plain": [
       "array([(1.85765, 0.67158, 0.4231 , 0.3061 , 0.5854284, 2.251946, 2.339849, 2.380652, 2.359738, 2.395528, 3.095123, 3.818919, 3.82623 , 5.174814,  8.263009, 11.47734 , 'merger'),\n",
       "       (1.74259, 0.86085, 0.44927, 0.28851, 0.7498125, 2.031566, 2.084156, 2.092272, 2.124075, 2.133154, 1.430436, 1.422533, 1.385727, 3.732712,  3.416921,  3.330347, 'merger'),\n",
       "       (2.10697, 0.9671 , 0.5681 , 0.33747, 0.6300893, 1.992887, 2.450746, 2.473116, 2.465324, 2.438683, 3.099957, 3.623704, 3.4633  , 9.110857,  8.354343, 11.26539 , 'merger'),\n",
       "       (1.2284 , 0.60446, 0.39049, 0.28913, 0.6689994, 2.056115, 2.182252, 2.30951 , 2.391414, 2.472397, 3.627267, 4.063471, 3.717708, 9.580675, 12.20242 , 11.82622 , 'merger'),\n",
       "       (1.80792, 0.78124, 0.45528, 0.35067, 0.5001697, 2.259167, 2.194723, 2.264567, 2.334713, 2.352568, 3.256751, 3.153533, 2.254511, 9.206746,  9.790146,  6.636931, 'merger')],\n",
       "      dtype=[('u-g', '<f8'), ('g-r', '<f8'), ('r-i', '<f8'), ('i-z', '<f8'), ('ecc', '<f8'), ('m4_u', '<f8'), ('m4_g', '<f8'), ('m4_r', '<f8'), ('m4_i', '<f8'), ('m4_z', '<f8'), ('petroR50_u', '<f8'), ('petroR50_r', '<f8'), ('petroR50_z', '<f8'), ('petroR90_u', '<f8'), ('petroR90_r', '<f8'), ('petroR90_z', '<f8'), ('class', '<U20')])"
      ]
     },
     "execution_count": 5,
     "metadata": {},
     "output_type": "execute_result"
    }
   ],
   "source": [
    "data[:5]"
   ]
  },
  {
   "cell_type": "markdown",
   "metadata": {
    "id": "xRoPdD2TRv33"
   },
   "source": [
    "# **CLASSIFICATION**\n",
    "\n",
    "Classification is a supervised machine learning where a set of features are related to labeled data or targets. These set of features and their corresponding targets are learned by the machine through analyzing their contribution in order for the model to predict outcomes."
   ]
  },
  {
   "cell_type": "markdown",
   "metadata": {
    "id": "_eq2V7xzFtq7"
   },
   "source": [
    "#### PART 1 - Get features and targets *(20 pts.)*\n",
    "\n",
    "Write a function ```get_features_targets``` that splits the dataset into input features and their corresponding targets. In our case, the inputs are the 4 galaxy colors ($u-g$, $g-r$, $r-i$, and $i-z$), eccentricity, $ugriz$ magnitudes, and concentrations $R_{50}/R_{90}$ in the $u$, $r$, and $z$ bands. The targets are the classes.\n",
    "\n",
    "Here's an example of how your function should work:\n",
    "```\n",
    ">>> features, targets = get_features_targets(data)\n",
    ">>> print(\"Features shape:\", features.shape\n",
    ">>> print(\"Targets shape:\", targets.shape)\n",
    "Features shape: (780, 13)\n",
    "Targets shape: (780,)\n",
    "```"
   ]
  },
  {
   "cell_type": "markdown",
   "metadata": {
    "id": "o53j6GqwxieM"
   },
   "source": [
    "**Defining a get_features_targets function**\n",
    "\n",
    "To get the input features and their corresponding data we can first convert the data, which is a numpy array, into a pandas DataFrame to make it more readable and clean.\n",
    "\n",
    "Before splitting into features and targets, we first have to get the $R_{50}/R_{90}$ in the $u$, $r$, and $z$ bands. We can do this by creating a new column with title `conc_u`, `conc_r`, and `conc_z`, respectively. The `petroR50` of the band is divided by the `petroR90` column.\n",
    "\n",
    "To split the data into features and target, we can locate columns in the DataFrame using `iloc` which is accessing a column based on the index. If we want to access the column using it's column name, we can use `.loc`"
   ]
  },
  {
   "cell_type": "code",
   "execution_count": 6,
   "metadata": {
    "colab": {
     "base_uri": "https://localhost:8080/",
     "height": 349
    },
    "id": "mfMtufdukBnu",
    "outputId": "a9be83b1-ebe2-4192-c4b1-b3f7974da07f"
   },
   "outputs": [
    {
     "data": {
      "application/vnd.google.colaboratory.intrinsic+json": {
       "summary": "{\n  \"name\": \"print(\\\"Targets shape:\\\", targets\",\n  \"rows\": 5,\n  \"fields\": [\n    {\n      \"column\": \"u-g\",\n      \"properties\": {\n        \"dtype\": \"number\",\n        \"std\": 0.32190213020419783,\n        \"min\": 1.2283999999999988,\n        \"max\": 2.1069700000000005,\n        \"num_unique_values\": 5,\n        \"samples\": [\n          1.7425899999999999,\n          1.8079199999999993,\n          2.1069700000000005\n        ],\n        \"semantic_type\": \"\",\n        \"description\": \"\"\n      }\n    },\n    {\n      \"column\": \"g-r\",\n      \"properties\": {\n        \"dtype\": \"number\",\n        \"std\": 0.14497433179704516,\n        \"min\": 0.6044599999999996,\n        \"max\": 0.9670999999999985,\n        \"num_unique_values\": 5,\n        \"samples\": [\n          0.8608499999999992,\n          0.7812400000000004,\n          0.9670999999999985\n        ],\n        \"semantic_type\": \"\",\n        \"description\": \"\"\n      }\n    },\n    {\n      \"column\": \"r-i\",\n      \"properties\": {\n        \"dtype\": \"number\",\n        \"std\": 0.06704178525367664,\n        \"min\": 0.3904899999999998,\n        \"max\": 0.5681000000000012,\n        \"num_unique_values\": 5,\n        \"samples\": [\n          0.44927000000000206,\n          0.4552800000000019,\n          0.5681000000000012\n        ],\n        \"semantic_type\": \"\",\n        \"description\": \"\"\n      }\n    },\n    {\n      \"column\": \"i-z\",\n      \"properties\": {\n        \"dtype\": \"number\",\n        \"std\": 0.028396698399637828,\n        \"min\": 0.2885099999999987,\n        \"max\": 0.35066999999999915,\n        \"num_unique_values\": 5,\n        \"samples\": [\n          0.2885099999999987,\n          0.35066999999999915,\n          0.3374699999999997\n        ],\n        \"semantic_type\": \"\",\n        \"description\": \"\"\n      }\n    },\n    {\n      \"column\": \"ecc\",\n      \"properties\": {\n        \"dtype\": \"number\",\n        \"std\": 0.09310004875891849,\n        \"min\": 0.5001697,\n        \"max\": 0.7498125,\n        \"num_unique_values\": 5,\n        \"samples\": [\n          0.7498125,\n          0.5001697,\n          0.6300893\n        ],\n        \"semantic_type\": \"\",\n        \"description\": \"\"\n      }\n    },\n    {\n      \"column\": \"m4_u\",\n      \"properties\": {\n        \"dtype\": \"number\",\n        \"std\": 0.1273017478304991,\n        \"min\": 1.992887,\n        \"max\": 2.259167,\n        \"num_unique_values\": 5,\n        \"samples\": [\n          2.031566,\n          2.259167,\n          1.992887\n        ],\n        \"semantic_type\": \"\",\n        \"description\": \"\"\n      }\n    },\n    {\n      \"column\": \"m4_g\",\n      \"properties\": {\n        \"dtype\": \"number\",\n        \"std\": 0.14449980455938335,\n        \"min\": 2.084156,\n        \"max\": 2.450746,\n        \"num_unique_values\": 5,\n        \"samples\": [\n          2.084156,\n          2.194723,\n          2.450746\n        ],\n        \"semantic_type\": \"\",\n        \"description\": \"\"\n      }\n    },\n    {\n      \"column\": \"m4_r\",\n      \"properties\": {\n        \"dtype\": \"number\",\n        \"std\": 0.14220567446062066,\n        \"min\": 2.092272,\n        \"max\": 2.473116,\n        \"num_unique_values\": 5,\n        \"samples\": [\n          2.092272,\n          2.264567,\n          2.473116\n        ],\n        \"semantic_type\": \"\",\n        \"description\": \"\"\n      }\n    },\n    {\n      \"column\": \"m4_i\",\n      \"properties\": {\n        \"dtype\": \"number\",\n        \"std\": 0.1277382842678733,\n        \"min\": 2.124075,\n        \"max\": 2.465324,\n        \"num_unique_values\": 5,\n        \"samples\": [\n          2.124075,\n          2.334713,\n          2.465324\n        ],\n        \"semantic_type\": \"\",\n        \"description\": \"\"\n      }\n    },\n    {\n      \"column\": \"m4_z\",\n      \"properties\": {\n        \"dtype\": \"number\",\n        \"std\": 0.13378052496720133,\n        \"min\": 2.133154,\n        \"max\": 2.472397,\n        \"num_unique_values\": 5,\n        \"samples\": [\n          2.133154,\n          2.352568,\n          2.438683\n        ],\n        \"semantic_type\": \"\",\n        \"description\": \"\"\n      }\n    },\n    {\n      \"column\": \"conc_u\",\n      \"properties\": {\n        \"dtype\": \"number\",\n        \"std\": 0.10620444329744802,\n        \"min\": 0.34024867254529406,\n        \"max\": 0.598112898357313,\n        \"num_unique_values\": 5,\n        \"samples\": [\n          0.3832162781377187,\n          0.35373529366401546,\n          0.34024867254529406\n        ],\n        \"semantic_type\": \"\",\n        \"description\": \"\"\n      }\n    },\n    {\n      \"column\": \"conc_r\",\n      \"properties\": {\n        \"dtype\": \"number\",\n        \"std\": 0.06247447712713425,\n        \"min\": 0.3221129695103628,\n        \"max\": 0.46217049987480346,\n        \"num_unique_values\": 5,\n        \"samples\": [\n          0.41632013148679764,\n          0.3221129695103628,\n          0.4337509245191393\n        ],\n        \"semantic_type\": \"\",\n        \"description\": \"\"\n      }\n    },\n    {\n      \"column\": \"conc_z\",\n      \"properties\": {\n        \"dtype\": \"number\",\n        \"std\": 0.04338239446749702,\n        \"min\": 0.30742832693763816,\n        \"max\": 0.4160908758156432,\n        \"num_unique_values\": 5,\n        \"samples\": [\n          0.4160908758156432,\n          0.33969179429468227,\n          0.30742832693763816\n        ],\n        \"semantic_type\": \"\",\n        \"description\": \"\"\n      }\n    }\n  ]\n}",
       "type": "dataframe"
      },
      "text/html": [
       "\n",
       "  <div id=\"df-a555d07e-ee8d-4e77-b6ac-e407897401bf\" class=\"colab-df-container\">\n",
       "    <div>\n",
       "<style scoped>\n",
       "    .dataframe tbody tr th:only-of-type {\n",
       "        vertical-align: middle;\n",
       "    }\n",
       "\n",
       "    .dataframe tbody tr th {\n",
       "        vertical-align: top;\n",
       "    }\n",
       "\n",
       "    .dataframe thead th {\n",
       "        text-align: right;\n",
       "    }\n",
       "</style>\n",
       "<table border=\"1\" class=\"dataframe\">\n",
       "  <thead>\n",
       "    <tr style=\"text-align: right;\">\n",
       "      <th></th>\n",
       "      <th>u-g</th>\n",
       "      <th>g-r</th>\n",
       "      <th>r-i</th>\n",
       "      <th>i-z</th>\n",
       "      <th>ecc</th>\n",
       "      <th>m4_u</th>\n",
       "      <th>m4_g</th>\n",
       "      <th>m4_r</th>\n",
       "      <th>m4_i</th>\n",
       "      <th>m4_z</th>\n",
       "      <th>conc_u</th>\n",
       "      <th>conc_r</th>\n",
       "      <th>conc_z</th>\n",
       "    </tr>\n",
       "  </thead>\n",
       "  <tbody>\n",
       "    <tr>\n",
       "      <th>0</th>\n",
       "      <td>1.85765</td>\n",
       "      <td>0.67158</td>\n",
       "      <td>0.42310</td>\n",
       "      <td>0.30610</td>\n",
       "      <td>0.585428</td>\n",
       "      <td>2.251946</td>\n",
       "      <td>2.339849</td>\n",
       "      <td>2.380652</td>\n",
       "      <td>2.359738</td>\n",
       "      <td>2.395528</td>\n",
       "      <td>0.598113</td>\n",
       "      <td>0.462170</td>\n",
       "      <td>0.333373</td>\n",
       "    </tr>\n",
       "    <tr>\n",
       "      <th>1</th>\n",
       "      <td>1.74259</td>\n",
       "      <td>0.86085</td>\n",
       "      <td>0.44927</td>\n",
       "      <td>0.28851</td>\n",
       "      <td>0.749812</td>\n",
       "      <td>2.031566</td>\n",
       "      <td>2.084156</td>\n",
       "      <td>2.092272</td>\n",
       "      <td>2.124075</td>\n",
       "      <td>2.133154</td>\n",
       "      <td>0.383216</td>\n",
       "      <td>0.416320</td>\n",
       "      <td>0.416091</td>\n",
       "    </tr>\n",
       "    <tr>\n",
       "      <th>2</th>\n",
       "      <td>2.10697</td>\n",
       "      <td>0.96710</td>\n",
       "      <td>0.56810</td>\n",
       "      <td>0.33747</td>\n",
       "      <td>0.630089</td>\n",
       "      <td>1.992887</td>\n",
       "      <td>2.450746</td>\n",
       "      <td>2.473116</td>\n",
       "      <td>2.465324</td>\n",
       "      <td>2.438683</td>\n",
       "      <td>0.340249</td>\n",
       "      <td>0.433751</td>\n",
       "      <td>0.307428</td>\n",
       "    </tr>\n",
       "    <tr>\n",
       "      <th>3</th>\n",
       "      <td>1.22840</td>\n",
       "      <td>0.60446</td>\n",
       "      <td>0.39049</td>\n",
       "      <td>0.28913</td>\n",
       "      <td>0.668999</td>\n",
       "      <td>2.056115</td>\n",
       "      <td>2.182252</td>\n",
       "      <td>2.309510</td>\n",
       "      <td>2.391414</td>\n",
       "      <td>2.472397</td>\n",
       "      <td>0.378602</td>\n",
       "      <td>0.333005</td>\n",
       "      <td>0.314361</td>\n",
       "    </tr>\n",
       "    <tr>\n",
       "      <th>4</th>\n",
       "      <td>1.80792</td>\n",
       "      <td>0.78124</td>\n",
       "      <td>0.45528</td>\n",
       "      <td>0.35067</td>\n",
       "      <td>0.500170</td>\n",
       "      <td>2.259167</td>\n",
       "      <td>2.194723</td>\n",
       "      <td>2.264567</td>\n",
       "      <td>2.334713</td>\n",
       "      <td>2.352568</td>\n",
       "      <td>0.353735</td>\n",
       "      <td>0.322113</td>\n",
       "      <td>0.339692</td>\n",
       "    </tr>\n",
       "  </tbody>\n",
       "</table>\n",
       "</div>\n",
       "    <div class=\"colab-df-buttons\">\n",
       "\n",
       "  <div class=\"colab-df-container\">\n",
       "    <button class=\"colab-df-convert\" onclick=\"convertToInteractive('df-a555d07e-ee8d-4e77-b6ac-e407897401bf')\"\n",
       "            title=\"Convert this dataframe to an interactive table.\"\n",
       "            style=\"display:none;\">\n",
       "\n",
       "  <svg xmlns=\"http://www.w3.org/2000/svg\" height=\"24px\" viewBox=\"0 -960 960 960\">\n",
       "    <path d=\"M120-120v-720h720v720H120Zm60-500h600v-160H180v160Zm220 220h160v-160H400v160Zm0 220h160v-160H400v160ZM180-400h160v-160H180v160Zm440 0h160v-160H620v160ZM180-180h160v-160H180v160Zm440 0h160v-160H620v160Z\"/>\n",
       "  </svg>\n",
       "    </button>\n",
       "\n",
       "  <style>\n",
       "    .colab-df-container {\n",
       "      display:flex;\n",
       "      gap: 12px;\n",
       "    }\n",
       "\n",
       "    .colab-df-convert {\n",
       "      background-color: #E8F0FE;\n",
       "      border: none;\n",
       "      border-radius: 50%;\n",
       "      cursor: pointer;\n",
       "      display: none;\n",
       "      fill: #1967D2;\n",
       "      height: 32px;\n",
       "      padding: 0 0 0 0;\n",
       "      width: 32px;\n",
       "    }\n",
       "\n",
       "    .colab-df-convert:hover {\n",
       "      background-color: #E2EBFA;\n",
       "      box-shadow: 0px 1px 2px rgba(60, 64, 67, 0.3), 0px 1px 3px 1px rgba(60, 64, 67, 0.15);\n",
       "      fill: #174EA6;\n",
       "    }\n",
       "\n",
       "    .colab-df-buttons div {\n",
       "      margin-bottom: 4px;\n",
       "    }\n",
       "\n",
       "    [theme=dark] .colab-df-convert {\n",
       "      background-color: #3B4455;\n",
       "      fill: #D2E3FC;\n",
       "    }\n",
       "\n",
       "    [theme=dark] .colab-df-convert:hover {\n",
       "      background-color: #434B5C;\n",
       "      box-shadow: 0px 1px 3px 1px rgba(0, 0, 0, 0.15);\n",
       "      filter: drop-shadow(0px 1px 2px rgba(0, 0, 0, 0.3));\n",
       "      fill: #FFFFFF;\n",
       "    }\n",
       "  </style>\n",
       "\n",
       "    <script>\n",
       "      const buttonEl =\n",
       "        document.querySelector('#df-a555d07e-ee8d-4e77-b6ac-e407897401bf button.colab-df-convert');\n",
       "      buttonEl.style.display =\n",
       "        google.colab.kernel.accessAllowed ? 'block' : 'none';\n",
       "\n",
       "      async function convertToInteractive(key) {\n",
       "        const element = document.querySelector('#df-a555d07e-ee8d-4e77-b6ac-e407897401bf');\n",
       "        const dataTable =\n",
       "          await google.colab.kernel.invokeFunction('convertToInteractive',\n",
       "                                                    [key], {});\n",
       "        if (!dataTable) return;\n",
       "\n",
       "        const docLinkHtml = 'Like what you see? Visit the ' +\n",
       "          '<a target=\"_blank\" href=https://colab.research.google.com/notebooks/data_table.ipynb>data table notebook</a>'\n",
       "          + ' to learn more about interactive tables.';\n",
       "        element.innerHTML = '';\n",
       "        dataTable['output_type'] = 'display_data';\n",
       "        await google.colab.output.renderOutput(dataTable, element);\n",
       "        const docLink = document.createElement('div');\n",
       "        docLink.innerHTML = docLinkHtml;\n",
       "        element.appendChild(docLink);\n",
       "      }\n",
       "    </script>\n",
       "  </div>\n",
       "\n",
       "\n",
       "<div id=\"df-3a132d3e-0da3-4525-a877-d2925374652e\">\n",
       "  <button class=\"colab-df-quickchart\" onclick=\"quickchart('df-3a132d3e-0da3-4525-a877-d2925374652e')\"\n",
       "            title=\"Suggest charts\"\n",
       "            style=\"display:none;\">\n",
       "\n",
       "<svg xmlns=\"http://www.w3.org/2000/svg\" height=\"24px\"viewBox=\"0 0 24 24\"\n",
       "     width=\"24px\">\n",
       "    <g>\n",
       "        <path d=\"M19 3H5c-1.1 0-2 .9-2 2v14c0 1.1.9 2 2 2h14c1.1 0 2-.9 2-2V5c0-1.1-.9-2-2-2zM9 17H7v-7h2v7zm4 0h-2V7h2v10zm4 0h-2v-4h2v4z\"/>\n",
       "    </g>\n",
       "</svg>\n",
       "  </button>\n",
       "\n",
       "<style>\n",
       "  .colab-df-quickchart {\n",
       "      --bg-color: #E8F0FE;\n",
       "      --fill-color: #1967D2;\n",
       "      --hover-bg-color: #E2EBFA;\n",
       "      --hover-fill-color: #174EA6;\n",
       "      --disabled-fill-color: #AAA;\n",
       "      --disabled-bg-color: #DDD;\n",
       "  }\n",
       "\n",
       "  [theme=dark] .colab-df-quickchart {\n",
       "      --bg-color: #3B4455;\n",
       "      --fill-color: #D2E3FC;\n",
       "      --hover-bg-color: #434B5C;\n",
       "      --hover-fill-color: #FFFFFF;\n",
       "      --disabled-bg-color: #3B4455;\n",
       "      --disabled-fill-color: #666;\n",
       "  }\n",
       "\n",
       "  .colab-df-quickchart {\n",
       "    background-color: var(--bg-color);\n",
       "    border: none;\n",
       "    border-radius: 50%;\n",
       "    cursor: pointer;\n",
       "    display: none;\n",
       "    fill: var(--fill-color);\n",
       "    height: 32px;\n",
       "    padding: 0;\n",
       "    width: 32px;\n",
       "  }\n",
       "\n",
       "  .colab-df-quickchart:hover {\n",
       "    background-color: var(--hover-bg-color);\n",
       "    box-shadow: 0 1px 2px rgba(60, 64, 67, 0.3), 0 1px 3px 1px rgba(60, 64, 67, 0.15);\n",
       "    fill: var(--button-hover-fill-color);\n",
       "  }\n",
       "\n",
       "  .colab-df-quickchart-complete:disabled,\n",
       "  .colab-df-quickchart-complete:disabled:hover {\n",
       "    background-color: var(--disabled-bg-color);\n",
       "    fill: var(--disabled-fill-color);\n",
       "    box-shadow: none;\n",
       "  }\n",
       "\n",
       "  .colab-df-spinner {\n",
       "    border: 2px solid var(--fill-color);\n",
       "    border-color: transparent;\n",
       "    border-bottom-color: var(--fill-color);\n",
       "    animation:\n",
       "      spin 1s steps(1) infinite;\n",
       "  }\n",
       "\n",
       "  @keyframes spin {\n",
       "    0% {\n",
       "      border-color: transparent;\n",
       "      border-bottom-color: var(--fill-color);\n",
       "      border-left-color: var(--fill-color);\n",
       "    }\n",
       "    20% {\n",
       "      border-color: transparent;\n",
       "      border-left-color: var(--fill-color);\n",
       "      border-top-color: var(--fill-color);\n",
       "    }\n",
       "    30% {\n",
       "      border-color: transparent;\n",
       "      border-left-color: var(--fill-color);\n",
       "      border-top-color: var(--fill-color);\n",
       "      border-right-color: var(--fill-color);\n",
       "    }\n",
       "    40% {\n",
       "      border-color: transparent;\n",
       "      border-right-color: var(--fill-color);\n",
       "      border-top-color: var(--fill-color);\n",
       "    }\n",
       "    60% {\n",
       "      border-color: transparent;\n",
       "      border-right-color: var(--fill-color);\n",
       "    }\n",
       "    80% {\n",
       "      border-color: transparent;\n",
       "      border-right-color: var(--fill-color);\n",
       "      border-bottom-color: var(--fill-color);\n",
       "    }\n",
       "    90% {\n",
       "      border-color: transparent;\n",
       "      border-bottom-color: var(--fill-color);\n",
       "    }\n",
       "  }\n",
       "</style>\n",
       "\n",
       "  <script>\n",
       "    async function quickchart(key) {\n",
       "      const quickchartButtonEl =\n",
       "        document.querySelector('#' + key + ' button');\n",
       "      quickchartButtonEl.disabled = true;  // To prevent multiple clicks.\n",
       "      quickchartButtonEl.classList.add('colab-df-spinner');\n",
       "      try {\n",
       "        const charts = await google.colab.kernel.invokeFunction(\n",
       "            'suggestCharts', [key], {});\n",
       "      } catch (error) {\n",
       "        console.error('Error during call to suggestCharts:', error);\n",
       "      }\n",
       "      quickchartButtonEl.classList.remove('colab-df-spinner');\n",
       "      quickchartButtonEl.classList.add('colab-df-quickchart-complete');\n",
       "    }\n",
       "    (() => {\n",
       "      let quickchartButtonEl =\n",
       "        document.querySelector('#df-3a132d3e-0da3-4525-a877-d2925374652e button');\n",
       "      quickchartButtonEl.style.display =\n",
       "        google.colab.kernel.accessAllowed ? 'block' : 'none';\n",
       "    })();\n",
       "  </script>\n",
       "</div>\n",
       "    </div>\n",
       "  </div>\n"
      ],
      "text/plain": [
       "       u-g      g-r      r-i      i-z       ecc      m4_u      m4_g      m4_r  \\\n",
       "0  1.85765  0.67158  0.42310  0.30610  0.585428  2.251946  2.339849  2.380652   \n",
       "1  1.74259  0.86085  0.44927  0.28851  0.749812  2.031566  2.084156  2.092272   \n",
       "2  2.10697  0.96710  0.56810  0.33747  0.630089  1.992887  2.450746  2.473116   \n",
       "3  1.22840  0.60446  0.39049  0.28913  0.668999  2.056115  2.182252  2.309510   \n",
       "4  1.80792  0.78124  0.45528  0.35067  0.500170  2.259167  2.194723  2.264567   \n",
       "\n",
       "       m4_i      m4_z    conc_u    conc_r    conc_z  \n",
       "0  2.359738  2.395528  0.598113  0.462170  0.333373  \n",
       "1  2.124075  2.133154  0.383216  0.416320  0.416091  \n",
       "2  2.465324  2.438683  0.340249  0.433751  0.307428  \n",
       "3  2.391414  2.472397  0.378602  0.333005  0.314361  \n",
       "4  2.334713  2.352568  0.353735  0.322113  0.339692  "
      ]
     },
     "metadata": {},
     "output_type": "display_data"
    },
    {
     "data": {
      "text/plain": [
       "0    merger\n",
       "1    merger\n",
       "2    merger\n",
       "3    merger\n",
       "4    merger\n",
       "Name: class, dtype: object"
      ]
     },
     "metadata": {},
     "output_type": "display_data"
    },
    {
     "name": "stdout",
     "output_type": "stream",
     "text": [
      "Features shape: (780, 13)\n",
      "Targets shape: (780,)\n"
     ]
    }
   ],
   "source": [
    "import pandas as pd\n",
    "\n",
    "#Define a function\n",
    "def get_features_targets(data):\n",
    "  df = pd.DataFrame(data)\n",
    "  df.insert(loc=10, column='conc_u', value=df['petroR50_u']/df['petroR90_u'])\n",
    "  df.insert(loc=11, column='conc_r', value=df['petroR50_r']/df['petroR90_r'])\n",
    "  df.insert(loc=12, column='conc_z', value=df['petroR50_z']/df['petroR90_z'])\n",
    "  features = df.iloc[:, :13]\n",
    "  targets = df.iloc[:, 19]\n",
    "  return features, targets\n",
    "\n",
    "#Get the features and targets by calling the get_features_targets function onto data\n",
    "features, targets = get_features_targets(data)\n",
    "\n",
    "#For sanity check, we can display the first few rows of the features and the targets to see that we have assigned it correctly.\n",
    "display(features.head())\n",
    "display(targets.head())\n",
    "\n",
    "#We can also check their shape to see if it matches the shape (780, 13) for features and (780, ) for targets\n",
    "print(\"Features shape:\", features.shape)\n",
    "print(\"Targets shape:\", targets.shape)"
   ]
  },
  {
   "cell_type": "markdown",
   "metadata": {
    "id": "vnePPYpJNWoY"
   },
   "source": [
    "#### PART 2 - Train and run a decision tree model *(40 pts.)*\n",
    "\n",
    "Write a function ```predict_class``` that will train and validate a model that predicts a galaxy's class from its photometric properties. In particular, it should do the following:\n",
    "1. Split the dataset into a training and test dataset using an 80:20 split.\n",
    "2. Train the input model using the training dataset features and targets.\n",
    "3. Return two arrays-- the predicted and actual class of the test galaxies.\n",
    "\n",
    "Here's an example of how your function should work:\n",
    "```\n",
    "import numpy as np\n",
    "from sklearn.tree import DecisionTreeClassifier\n",
    "\n",
    "data = np.load(file_path + 'galaxy_catalogue.npy')\n",
    "predicted_class, actual_class = predict_class(data)\n",
    "\n",
    "for i in np.arange(3):\n",
    "   print(\"%d, %s, %s\" & (i, predicted_class[i], actual_class[i]))\n",
    "```"
   ]
  },
  {
   "cell_type": "markdown",
   "metadata": {
    "id": "cx4gHbQVFHDF"
   },
   "source": [
    "# **DECISION TREE MODEL**\n",
    "\n",
    "A decision tree is a supervised learning method for classification. The model partitions the data into subsets based on features that best separate the classes.\n",
    "\n",
    "Why is it called decision tree? Because of its structure comprising of nodes, branches, and leaves.\n",
    "\n",
    "*   Nodes - decisons\n",
    "*   Branches - result/outcome\n",
    "*   Leaves - predictions\n",
    "\n",
    "\n",
    "For each node of the tree, a decision criteria is implemented. The default decision criteria for the `DecisionTreeClassifier` is Gini impurity.\n",
    "\n",
    "We can also get identify which features of our data significantly contribute to the model in making predictions. This is called the Feature importance which measures the features's impact."
   ]
  },
  {
   "cell_type": "code",
   "execution_count": 7,
   "metadata": {
    "id": "HAHLXEU2DHCn"
   },
   "outputs": [],
   "source": [
    "import numpy as np\n",
    "from sklearn.tree import DecisionTreeClassifier\n",
    "from sklearn.model_selection import train_test_split\n",
    "\n",
    "def predict_class(features, targets):\n",
    "  X_train, X_test, y_train, y_test = train_test_split(features, targets, test_size = 0.2) #Split the data into 80% training and 20% testing\n",
    "  model = DecisionTreeClassifier()\n",
    "  model = model.fit(X_train, y_train) #Fit the training set using the model\n",
    "  feature_importance = model.feature_importances_ #Get the feature importance\n",
    "  predicted_class = model.predict(X_test)\n",
    "  actual_class = y_test.to_numpy()\n",
    "  return predicted_class, actual_class, feature_importance"
   ]
  },
  {
   "cell_type": "code",
   "execution_count": 8,
   "metadata": {
    "id": "ydeUh_Tzvf0n"
   },
   "outputs": [],
   "source": [
    "#We call our predict_class function which uses the features and targets that we split as inputs\n",
    "predicted_class, actual_class, feature_importance = predict_class(features, targets)"
   ]
  },
  {
   "cell_type": "markdown",
   "metadata": {
    "id": "uvbqGJ6eDnxi"
   },
   "source": [
    "We can print to see the values of the importance of each feature. We convert it into a DataFrame for readability."
   ]
  },
  {
   "cell_type": "code",
   "execution_count": 9,
   "metadata": {
    "colab": {
     "base_uri": "https://localhost:8080/",
     "height": 457
    },
    "id": "7BNFP02JDYDE",
    "outputId": "9ded7c22-6048-4b75-ec7a-41373cd77c80"
   },
   "outputs": [
    {
     "data": {
      "application/vnd.google.colaboratory.intrinsic+json": {
       "summary": "{\n  \"name\": \"importance_dataframe\",\n  \"rows\": 13,\n  \"fields\": [\n    {\n      \"column\": \"Feature\",\n      \"properties\": {\n        \"dtype\": \"string\",\n        \"num_unique_values\": 13,\n        \"samples\": [\n          \"conc_r\",\n          \"m4_z\",\n          \"u-g\"\n        ],\n        \"semantic_type\": \"\",\n        \"description\": \"\"\n      }\n    },\n    {\n      \"column\": \"Importance\",\n      \"properties\": {\n        \"dtype\": \"number\",\n        \"std\": 0.11818858136010878,\n        \"min\": 0.007171195956844774,\n        \"max\": 0.4529958160266265,\n        \"num_unique_values\": 13,\n        \"samples\": [\n          0.4529958160266265,\n          0.08771564535609168,\n          0.060990716575213176\n        ],\n        \"semantic_type\": \"\",\n        \"description\": \"\"\n      }\n    }\n  ]\n}",
       "type": "dataframe",
       "variable_name": "importance_dataframe"
      },
      "text/html": [
       "\n",
       "  <div id=\"df-4000d65f-ed27-498b-8dd3-a0ff3130fd43\" class=\"colab-df-container\">\n",
       "    <div>\n",
       "<style scoped>\n",
       "    .dataframe tbody tr th:only-of-type {\n",
       "        vertical-align: middle;\n",
       "    }\n",
       "\n",
       "    .dataframe tbody tr th {\n",
       "        vertical-align: top;\n",
       "    }\n",
       "\n",
       "    .dataframe thead th {\n",
       "        text-align: right;\n",
       "    }\n",
       "</style>\n",
       "<table border=\"1\" class=\"dataframe\">\n",
       "  <thead>\n",
       "    <tr style=\"text-align: right;\">\n",
       "      <th></th>\n",
       "      <th>Feature</th>\n",
       "      <th>Importance</th>\n",
       "    </tr>\n",
       "  </thead>\n",
       "  <tbody>\n",
       "    <tr>\n",
       "      <th>0</th>\n",
       "      <td>u-g</td>\n",
       "      <td>0.060991</td>\n",
       "    </tr>\n",
       "    <tr>\n",
       "      <th>1</th>\n",
       "      <td>g-r</td>\n",
       "      <td>0.047918</td>\n",
       "    </tr>\n",
       "    <tr>\n",
       "      <th>2</th>\n",
       "      <td>r-i</td>\n",
       "      <td>0.074872</td>\n",
       "    </tr>\n",
       "    <tr>\n",
       "      <th>3</th>\n",
       "      <td>i-z</td>\n",
       "      <td>0.028192</td>\n",
       "    </tr>\n",
       "    <tr>\n",
       "      <th>4</th>\n",
       "      <td>ecc</td>\n",
       "      <td>0.118045</td>\n",
       "    </tr>\n",
       "    <tr>\n",
       "      <th>5</th>\n",
       "      <td>m4_u</td>\n",
       "      <td>0.014754</td>\n",
       "    </tr>\n",
       "    <tr>\n",
       "      <th>6</th>\n",
       "      <td>m4_g</td>\n",
       "      <td>0.066808</td>\n",
       "    </tr>\n",
       "    <tr>\n",
       "      <th>7</th>\n",
       "      <td>m4_r</td>\n",
       "      <td>0.007171</td>\n",
       "    </tr>\n",
       "    <tr>\n",
       "      <th>8</th>\n",
       "      <td>m4_i</td>\n",
       "      <td>0.014980</td>\n",
       "    </tr>\n",
       "    <tr>\n",
       "      <th>9</th>\n",
       "      <td>m4_z</td>\n",
       "      <td>0.087716</td>\n",
       "    </tr>\n",
       "    <tr>\n",
       "      <th>10</th>\n",
       "      <td>conc_u</td>\n",
       "      <td>0.015182</td>\n",
       "    </tr>\n",
       "    <tr>\n",
       "      <th>11</th>\n",
       "      <td>conc_r</td>\n",
       "      <td>0.452996</td>\n",
       "    </tr>\n",
       "    <tr>\n",
       "      <th>12</th>\n",
       "      <td>conc_z</td>\n",
       "      <td>0.010375</td>\n",
       "    </tr>\n",
       "  </tbody>\n",
       "</table>\n",
       "</div>\n",
       "    <div class=\"colab-df-buttons\">\n",
       "\n",
       "  <div class=\"colab-df-container\">\n",
       "    <button class=\"colab-df-convert\" onclick=\"convertToInteractive('df-4000d65f-ed27-498b-8dd3-a0ff3130fd43')\"\n",
       "            title=\"Convert this dataframe to an interactive table.\"\n",
       "            style=\"display:none;\">\n",
       "\n",
       "  <svg xmlns=\"http://www.w3.org/2000/svg\" height=\"24px\" viewBox=\"0 -960 960 960\">\n",
       "    <path d=\"M120-120v-720h720v720H120Zm60-500h600v-160H180v160Zm220 220h160v-160H400v160Zm0 220h160v-160H400v160ZM180-400h160v-160H180v160Zm440 0h160v-160H620v160ZM180-180h160v-160H180v160Zm440 0h160v-160H620v160Z\"/>\n",
       "  </svg>\n",
       "    </button>\n",
       "\n",
       "  <style>\n",
       "    .colab-df-container {\n",
       "      display:flex;\n",
       "      gap: 12px;\n",
       "    }\n",
       "\n",
       "    .colab-df-convert {\n",
       "      background-color: #E8F0FE;\n",
       "      border: none;\n",
       "      border-radius: 50%;\n",
       "      cursor: pointer;\n",
       "      display: none;\n",
       "      fill: #1967D2;\n",
       "      height: 32px;\n",
       "      padding: 0 0 0 0;\n",
       "      width: 32px;\n",
       "    }\n",
       "\n",
       "    .colab-df-convert:hover {\n",
       "      background-color: #E2EBFA;\n",
       "      box-shadow: 0px 1px 2px rgba(60, 64, 67, 0.3), 0px 1px 3px 1px rgba(60, 64, 67, 0.15);\n",
       "      fill: #174EA6;\n",
       "    }\n",
       "\n",
       "    .colab-df-buttons div {\n",
       "      margin-bottom: 4px;\n",
       "    }\n",
       "\n",
       "    [theme=dark] .colab-df-convert {\n",
       "      background-color: #3B4455;\n",
       "      fill: #D2E3FC;\n",
       "    }\n",
       "\n",
       "    [theme=dark] .colab-df-convert:hover {\n",
       "      background-color: #434B5C;\n",
       "      box-shadow: 0px 1px 3px 1px rgba(0, 0, 0, 0.15);\n",
       "      filter: drop-shadow(0px 1px 2px rgba(0, 0, 0, 0.3));\n",
       "      fill: #FFFFFF;\n",
       "    }\n",
       "  </style>\n",
       "\n",
       "    <script>\n",
       "      const buttonEl =\n",
       "        document.querySelector('#df-4000d65f-ed27-498b-8dd3-a0ff3130fd43 button.colab-df-convert');\n",
       "      buttonEl.style.display =\n",
       "        google.colab.kernel.accessAllowed ? 'block' : 'none';\n",
       "\n",
       "      async function convertToInteractive(key) {\n",
       "        const element = document.querySelector('#df-4000d65f-ed27-498b-8dd3-a0ff3130fd43');\n",
       "        const dataTable =\n",
       "          await google.colab.kernel.invokeFunction('convertToInteractive',\n",
       "                                                    [key], {});\n",
       "        if (!dataTable) return;\n",
       "\n",
       "        const docLinkHtml = 'Like what you see? Visit the ' +\n",
       "          '<a target=\"_blank\" href=https://colab.research.google.com/notebooks/data_table.ipynb>data table notebook</a>'\n",
       "          + ' to learn more about interactive tables.';\n",
       "        element.innerHTML = '';\n",
       "        dataTable['output_type'] = 'display_data';\n",
       "        await google.colab.output.renderOutput(dataTable, element);\n",
       "        const docLink = document.createElement('div');\n",
       "        docLink.innerHTML = docLinkHtml;\n",
       "        element.appendChild(docLink);\n",
       "      }\n",
       "    </script>\n",
       "  </div>\n",
       "\n",
       "\n",
       "<div id=\"df-3e71f9e3-d29c-4985-8df7-a2ba05e2ac04\">\n",
       "  <button class=\"colab-df-quickchart\" onclick=\"quickchart('df-3e71f9e3-d29c-4985-8df7-a2ba05e2ac04')\"\n",
       "            title=\"Suggest charts\"\n",
       "            style=\"display:none;\">\n",
       "\n",
       "<svg xmlns=\"http://www.w3.org/2000/svg\" height=\"24px\"viewBox=\"0 0 24 24\"\n",
       "     width=\"24px\">\n",
       "    <g>\n",
       "        <path d=\"M19 3H5c-1.1 0-2 .9-2 2v14c0 1.1.9 2 2 2h14c1.1 0 2-.9 2-2V5c0-1.1-.9-2-2-2zM9 17H7v-7h2v7zm4 0h-2V7h2v10zm4 0h-2v-4h2v4z\"/>\n",
       "    </g>\n",
       "</svg>\n",
       "  </button>\n",
       "\n",
       "<style>\n",
       "  .colab-df-quickchart {\n",
       "      --bg-color: #E8F0FE;\n",
       "      --fill-color: #1967D2;\n",
       "      --hover-bg-color: #E2EBFA;\n",
       "      --hover-fill-color: #174EA6;\n",
       "      --disabled-fill-color: #AAA;\n",
       "      --disabled-bg-color: #DDD;\n",
       "  }\n",
       "\n",
       "  [theme=dark] .colab-df-quickchart {\n",
       "      --bg-color: #3B4455;\n",
       "      --fill-color: #D2E3FC;\n",
       "      --hover-bg-color: #434B5C;\n",
       "      --hover-fill-color: #FFFFFF;\n",
       "      --disabled-bg-color: #3B4455;\n",
       "      --disabled-fill-color: #666;\n",
       "  }\n",
       "\n",
       "  .colab-df-quickchart {\n",
       "    background-color: var(--bg-color);\n",
       "    border: none;\n",
       "    border-radius: 50%;\n",
       "    cursor: pointer;\n",
       "    display: none;\n",
       "    fill: var(--fill-color);\n",
       "    height: 32px;\n",
       "    padding: 0;\n",
       "    width: 32px;\n",
       "  }\n",
       "\n",
       "  .colab-df-quickchart:hover {\n",
       "    background-color: var(--hover-bg-color);\n",
       "    box-shadow: 0 1px 2px rgba(60, 64, 67, 0.3), 0 1px 3px 1px rgba(60, 64, 67, 0.15);\n",
       "    fill: var(--button-hover-fill-color);\n",
       "  }\n",
       "\n",
       "  .colab-df-quickchart-complete:disabled,\n",
       "  .colab-df-quickchart-complete:disabled:hover {\n",
       "    background-color: var(--disabled-bg-color);\n",
       "    fill: var(--disabled-fill-color);\n",
       "    box-shadow: none;\n",
       "  }\n",
       "\n",
       "  .colab-df-spinner {\n",
       "    border: 2px solid var(--fill-color);\n",
       "    border-color: transparent;\n",
       "    border-bottom-color: var(--fill-color);\n",
       "    animation:\n",
       "      spin 1s steps(1) infinite;\n",
       "  }\n",
       "\n",
       "  @keyframes spin {\n",
       "    0% {\n",
       "      border-color: transparent;\n",
       "      border-bottom-color: var(--fill-color);\n",
       "      border-left-color: var(--fill-color);\n",
       "    }\n",
       "    20% {\n",
       "      border-color: transparent;\n",
       "      border-left-color: var(--fill-color);\n",
       "      border-top-color: var(--fill-color);\n",
       "    }\n",
       "    30% {\n",
       "      border-color: transparent;\n",
       "      border-left-color: var(--fill-color);\n",
       "      border-top-color: var(--fill-color);\n",
       "      border-right-color: var(--fill-color);\n",
       "    }\n",
       "    40% {\n",
       "      border-color: transparent;\n",
       "      border-right-color: var(--fill-color);\n",
       "      border-top-color: var(--fill-color);\n",
       "    }\n",
       "    60% {\n",
       "      border-color: transparent;\n",
       "      border-right-color: var(--fill-color);\n",
       "    }\n",
       "    80% {\n",
       "      border-color: transparent;\n",
       "      border-right-color: var(--fill-color);\n",
       "      border-bottom-color: var(--fill-color);\n",
       "    }\n",
       "    90% {\n",
       "      border-color: transparent;\n",
       "      border-bottom-color: var(--fill-color);\n",
       "    }\n",
       "  }\n",
       "</style>\n",
       "\n",
       "  <script>\n",
       "    async function quickchart(key) {\n",
       "      const quickchartButtonEl =\n",
       "        document.querySelector('#' + key + ' button');\n",
       "      quickchartButtonEl.disabled = true;  // To prevent multiple clicks.\n",
       "      quickchartButtonEl.classList.add('colab-df-spinner');\n",
       "      try {\n",
       "        const charts = await google.colab.kernel.invokeFunction(\n",
       "            'suggestCharts', [key], {});\n",
       "      } catch (error) {\n",
       "        console.error('Error during call to suggestCharts:', error);\n",
       "      }\n",
       "      quickchartButtonEl.classList.remove('colab-df-spinner');\n",
       "      quickchartButtonEl.classList.add('colab-df-quickchart-complete');\n",
       "    }\n",
       "    (() => {\n",
       "      let quickchartButtonEl =\n",
       "        document.querySelector('#df-3e71f9e3-d29c-4985-8df7-a2ba05e2ac04 button');\n",
       "      quickchartButtonEl.style.display =\n",
       "        google.colab.kernel.accessAllowed ? 'block' : 'none';\n",
       "    })();\n",
       "  </script>\n",
       "</div>\n",
       "    </div>\n",
       "  </div>\n"
      ],
      "text/plain": [
       "   Feature  Importance\n",
       "0      u-g    0.060991\n",
       "1      g-r    0.047918\n",
       "2      r-i    0.074872\n",
       "3      i-z    0.028192\n",
       "4      ecc    0.118045\n",
       "5     m4_u    0.014754\n",
       "6     m4_g    0.066808\n",
       "7     m4_r    0.007171\n",
       "8     m4_i    0.014980\n",
       "9     m4_z    0.087716\n",
       "10  conc_u    0.015182\n",
       "11  conc_r    0.452996\n",
       "12  conc_z    0.010375"
      ]
     },
     "metadata": {},
     "output_type": "display_data"
    }
   ],
   "source": [
    "importance_dataframe = pd.DataFrame({'Feature': features.columns, 'Importance': feature_importance})\n",
    "display(importance_dataframe)"
   ]
  },
  {
   "cell_type": "markdown",
   "metadata": {
    "id": "3DTV8LCQDCHj"
   },
   "source": [
    "To better visualize the importance of each feature, we can use a horizontal bar plot."
   ]
  },
  {
   "cell_type": "code",
   "execution_count": 10,
   "metadata": {
    "colab": {
     "base_uri": "https://localhost:8080/",
     "height": 564
    },
    "id": "n1AfyGiDDAZT",
    "outputId": "367f8a30-a61f-4693-fb69-c245ae4d7e62"
   },
   "outputs": [
    {
     "data": {
      "image/png": "[encoded data removed]",
      "text/plain": [
       "<Figure size 900x600 with 1 Axes>"
      ]
     },
     "metadata": {},
     "output_type": "display_data"
    }
   ],
   "source": [
    "import matplotlib.pyplot as plt\n",
    "plt.figure(figsize=(9, 6))\n",
    "plt.barh(features.columns, feature_importance, color='lightseagreen')\n",
    "plt.xlabel('Feature Importance')\n",
    "plt.ylabel('Features')\n",
    "plt.title('Feature Importance', weight='bold')\n",
    "\n",
    "for i, v in enumerate(feature_importance):\n",
    "    plt.text(v, i, f'{v:.2f}', color='black', ha='left', va='center')\n",
    "plt.show()"
   ]
  },
  {
   "cell_type": "markdown",
   "metadata": {
    "id": "Mi03CCAVKg4X"
   },
   "source": [
    "Again, feature importance is relevant as it is the score/value of how significant that feature is into predicting the target variable. It measures the influence of this specific feature in our model.\n",
    "\n",
    "In this bar plot, we can see that the `conc_r` or the $R_{50}/R_{90}$ concentration in the r band is the most significant feature on whether a galaxy is a merger, spiral, or elliptical. On the other hand, the u-g galaxy color has the least influence."
   ]
  },
  {
   "cell_type": "markdown",
   "metadata": {
    "id": "bcT6k9F0_8jw"
   },
   "source": [
    "Now that we have our model's predictions. We can check the first three rows:"
   ]
  },
  {
   "cell_type": "code",
   "execution_count": 11,
   "metadata": {
    "colab": {
     "base_uri": "https://localhost:8080/"
    },
    "id": "mePhBYfW_7T1",
    "outputId": "034020f5-ed79-45a3-88c7-76137bad9d9a"
   },
   "outputs": [
    {
     "name": "stdout",
     "output_type": "stream",
     "text": [
      "0, spiral, merger\n",
      "1, merger, merger\n",
      "2, elliptical, elliptical\n"
     ]
    }
   ],
   "source": [
    "for i in np.arange(3):\n",
    "   print(\"%d, %s, %s\" % (i, predicted_class[i], actual_class[i]))"
   ]
  },
  {
   "cell_type": "markdown",
   "metadata": {
    "id": "hlSp5k92OjuM"
   },
   "source": [
    "#### PART 3 - Confusion matrix and accuracy *(40 pts.)*\n",
    "\n",
    "1. Get the confusion matrix for your test dataset-- this is a 3 x 3 matrix with the counts for each combination of actual and predicted class. *(25 pts.)*\n",
    "\n",
    "2. Get the test accuracy of your decision tree classifer, defined as the number of correct predictions divided by the total number of predictions. *(15 pts.)*"
   ]
  },
  {
   "cell_type": "markdown",
   "metadata": {
    "id": "W-8jD2QtvwB9"
   },
   "source": [
    "# **CONFUSION MATRIX**\n",
    "\n",
    "Before creating the confusion matrix, we can calculate the True Positives for each classification. In this code, we check each row i of the predicted_class and actual_class and compare if their values are equal to each other. If they are equal to each other, we add one to the count of either merger, spiral, or elliptical."
   ]
  },
  {
   "cell_type": "code",
   "execution_count": 12,
   "metadata": {
    "colab": {
     "base_uri": "https://localhost:8080/"
    },
    "id": "KcOrpJaiKdYy",
    "outputId": "06f11ce7-a1b4-46a9-c203-0e78ee4806ba"
   },
   "outputs": [
    {
     "name": "stdout",
     "output_type": "stream",
     "text": [
      "Merger TP: 30, Spiral TP: 41, Elliptical TP: 57\n"
     ]
    }
   ],
   "source": [
    "\n",
    "merger_count = 0\n",
    "spiral_count = 0\n",
    "elliptical_count = 0\n",
    "\n",
    "for i in range(len(predicted_class)):\n",
    "    if predicted_class[i] == 'merger' and actual_class[i] == 'merger':\n",
    "        merger_count += 1\n",
    "    if predicted_class[i] == 'spiral' and actual_class[i] == 'spiral':\n",
    "        spiral_count += 1\n",
    "    if predicted_class[i] == 'elliptical' and actual_class[i] == 'elliptical':\n",
    "        elliptical_count += 1\n",
    "print(f'Merger TP: {merger_count}, Spiral TP: {spiral_count}, Elliptical TP: {elliptical_count}')"
   ]
  },
  {
   "cell_type": "markdown",
   "metadata": {
    "id": "gQF64KZOwUXf"
   },
   "source": [
    "From the results above, we can see that the model correctly predicted **30mergers**, **41 spirals**, and **57 ellipticals**.\n",
    "\n",
    "**CONFUSION MATRIX VISUALIZATION**\n",
    "\n",
    "Onto creating the confusion matrix, we can use the `confusion_matrix` function from `sklearn.metrics`. We then use seaborn heatmap for the visualization of the `confusion_matrix`. Aside from seaborn, there are also other ways to visualize the matrix such as by using `ConfusionMatrixDisplay` function from sklearn."
   ]
  },
  {
   "cell_type": "code",
   "execution_count": 19,
   "metadata": {
    "colab": {
     "base_uri": "https://localhost:8080/",
     "height": 472
    },
    "id": "OZXvnOSLdH_k",
    "outputId": "c9f962c8-2211-45ec-e331-25411ee418db"
   },
   "outputs": [
    {
     "data": {
      "image/png": "[encoded data removed]",
      "text/plain": [
       "<Figure size 640x480 with 2 Axes>"
      ]
     },
     "metadata": {},
     "output_type": "display_data"
    }
   ],
   "source": [
    "from sklearn.metrics import confusion_matrix\n",
    "import seaborn as sns\n",
    "\n",
    "conf_matrix = confusion_matrix(predicted_class, actual_class)\n",
    "categories = ['elliptical', 'merger', 'spiral']\n",
    "\n",
    "#Plotting the confusion matrix using seaborn's heatmap\n",
    "sns.heatmap(conf_matrix, xticklabels=categories, yticklabels=categories, annot=True, fmt='')\n",
    "plt.xlabel('Predicted')\n",
    "plt.ylabel('Actual')\n",
    "plt.title('Confusion Matrix', weight='bold')\n",
    "plt.show()"
   ]
  },
  {
   "cell_type": "markdown",
   "metadata": {
    "id": "jFopNyT3_rJB"
   },
   "source": [
    "# **ACCURACY**\n",
    "\n",
    "To get the accuracy of the model, we can get the sum of the diagonal of the matrix, which are the True Positives (TP), over the sum of the whole matrix. To get the sum of the diagonal, we use `np.trace` and for the sum of the whole matrix we use `np.sum`."
   ]
  },
  {
   "cell_type": "code",
   "execution_count": 14,
   "metadata": {
    "colab": {
     "base_uri": "https://localhost:8080/"
    },
    "id": "ElPlZ7_2RbWU",
    "outputId": "6882dddb-ab56-4698-d1da-e17b1217b581"
   },
   "outputs": [
    {
     "name": "stdout",
     "output_type": "stream",
     "text": [
      "The accuracy of the model is: 0.8205128205128205\n"
     ]
    }
   ],
   "source": [
    "accuracy = np.trace(conf_matrix)/np.sum(conf_matrix)\n",
    "print(f'The accuracy of the model is: {accuracy}')"
   ]
  },
  {
   "cell_type": "markdown",
   "metadata": {
    "id": "c4T3SQQEjwq4"
   },
   "source": [
    "The model made has an accuracy of 82% which means that it is the percentage of correctly predicted classifications based on the given features."
   ]
  },
  {
   "cell_type": "markdown",
   "metadata": {
    "id": "PeMAE7hqIs9d"
   },
   "source": [
    "# **OTHER EVALUATION METRICS**\n",
    "\n",
    "Aside from Accuracy, we can also obtain other metrics of our model such as the Precision, Recall, and F-score using the `classification_report` function of the `sklearn.metrics` library."
   ]
  },
  {
   "cell_type": "code",
   "execution_count": 15,
   "metadata": {
    "colab": {
     "base_uri": "https://localhost:8080/"
    },
    "id": "Gz85kRhZt9yB",
    "outputId": "4e493fef-930d-4423-afe9-70df22fcae3e"
   },
   "outputs": [
    {
     "name": "stdout",
     "output_type": "stream",
     "text": [
      "              precision    recall  f1-score   support\n",
      "\n",
      "  elliptical       0.90      0.95      0.93        60\n",
      "      merger       0.67      0.73      0.70        41\n",
      "      spiral       0.85      0.75      0.80        55\n",
      "\n",
      "    accuracy                           0.82       156\n",
      "   macro avg       0.81      0.81      0.81       156\n",
      "weighted avg       0.82      0.82      0.82       156\n",
      "\n"
     ]
    }
   ],
   "source": [
    "from sklearn.metrics import classification_report\n",
    "print(classification_report(predicted_class, actual_class))"
   ]
  },
  {
   "cell_type": "markdown",
   "metadata": {
    "id": "gvZ-llnaUYll"
   },
   "source": [
    "\n",
    "\n",
    "\n",
    "\n",
    "*   Precision is the number of True Positives over the sum of the True Positives and the False Positives. This means that it measures the accuracy of positive predictions made by the model.\n",
    "*   Recall is the sensitivity or the true positive rate. It is the number of True Positives divided by the sum of True Positives and False Negatives.\n",
    "*   F1-score is a measure that considers both precision and recall. A score closer to 1 means better model performance.\n",
    "*   Support represents the number of samples that were present in each class of the test set.\n",
    "\n",
    "Analyzing the results, we observe that the model accurately identifies elliptical classes more precisely than merger and spiral classes. Furthermore, the comparison of F1-scores reveals that out of the three classes, the model struggles to correctly identify mergers while avoiding false positives.\n",
    "\n",
    "\n",
    "\n"
   ]
  }
 ],
 "metadata": {
  "colab": {
   "provenance": []
  },
  "hide_input": false,
  "kernelspec": {
   "display_name": "Python 3 (ipykernel)",
   "language": "python",
   "name": "python3"
  },
  "language_info": {
   "codemirror_mode": {
    "name": "ipython",
    "version": 3
   },
   "file_extension": ".py",
   "mimetype": "text/x-python",
   "name": "python",
   "nbconvert_exporter": "python",
   "pygments_lexer": "ipython3",
   "version": "3.9.12"
  },
  "toc": {
   "base_numbering": 1,
   "nav_menu": {},
   "number_sections": true,
   "sideBar": true,
   "skip_h1_title": false,
   "title_cell": "Table of Contents",
   "title_sidebar": "Contents",
   "toc_cell": false,
   "toc_position": {},
   "toc_section_display": true,
   "toc_window_display": false
  },
  "varInspector": {
   "cols": {
    "lenName": 16,
    "lenType": 16,
    "lenVar": 40
   },
   "kernels_config": {
    "python": {
     "delete_cmd_postfix": "",
     "delete_cmd_prefix": "del ",
     "library": "var_list.py",
     "varRefreshCmd": "print(var_dic_list())"
    },
    "r": {
     "delete_cmd_postfix": ") ",
     "delete_cmd_prefix": "rm(",
     "library": "var_list.r",
     "varRefreshCmd": "cat(var_dic_list()) "
    }
   },
   "types_to_exclude": [
    "module",
    "function",
    "builtin_function_or_method",
    "instance",
    "_Feature"
   ],
   "window_display": false
  }
 },
 "nbformat": 4,
 "nbformat_minor": 1
}
